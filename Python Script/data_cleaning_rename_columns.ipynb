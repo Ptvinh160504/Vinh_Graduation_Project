{
 "cells": [
  {
   "cell_type": "markdown",
   "id": "6e0b2d80",
   "metadata": {},
   "source": [
    "## Rename Columns "
   ]
  },
  {
   "cell_type": "code",
   "execution_count": 1,
   "id": "6789c212",
   "metadata": {},
   "outputs": [],
   "source": [
    "def rename_columns(self, rename_rules_by_file):\n",
    "        if not self.dataframes:\n",
    "            print(\"No data to process.\")\n",
    "            return\n",
    "\n",
    "        for i, (path, df) in enumerate(self.dataframes):\n",
    "            for keyword, rename_map in rename_rules_by_file.items():\n",
    "                if keyword in path:\n",
    "                    existing_renames = {old: new for old, new in rename_map.items() if old in df.columns}\n",
    "                    df = df.rename(columns=existing_renames)\n",
    "                    self.dataframes[i] = (path, df)\n",
    "                    print(f\"\\nRenamed columns in file {path}: {existing_renames if existing_renames else 'No matching columns to rename'}\")\n",
    "                    break"
   ]
  }
 ],
 "metadata": {
  "kernelspec": {
   "display_name": "Python 3",
   "language": "python",
   "name": "python3"
  },
  "language_info": {
   "codemirror_mode": {
    "name": "ipython",
    "version": 3
   },
   "file_extension": ".py",
   "mimetype": "text/x-python",
   "name": "python",
   "nbconvert_exporter": "python",
   "pygments_lexer": "ipython3",
   "version": "3.11.9"
  }
 },
 "nbformat": 4,
 "nbformat_minor": 5
}
