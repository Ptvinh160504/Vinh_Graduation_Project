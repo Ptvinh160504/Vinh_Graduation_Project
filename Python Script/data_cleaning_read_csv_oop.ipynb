{
 "cells": [
  {
   "cell_type": "markdown",
   "id": "9326d28f",
   "metadata": {},
   "source": [
    "### Read File With  Pandas"
   ]
  },
  {
   "cell_type": "code",
   "execution_count": 1,
   "id": "27a48afe",
   "metadata": {},
   "outputs": [
    {
     "name": "stderr",
     "output_type": "stream",
     "text": [
      "C:\\Users\\Phi Huynh\\AppData\\Local\\Temp\\ipykernel_15400\\873331345.py:18: DtypeWarning: Columns (1,2,3) have mixed types. Specify dtype option on import or set low_memory=False.\n",
      "  df = pd.read_csv(path)\n"
     ]
    },
    {
     "name": "stdout",
     "output_type": "stream",
     "text": [
      "Complete reading the file: C:\\FPT Polytechnic\\Project Tự Làm\\Điểm thi thpt 2020 - 2024\\diem_thi_2020_2021.csv\n",
      "Complete reading the file: C:\\FPT Polytechnic\\Project Tự Làm\\Điểm thi thpt 2020 - 2024\\diem_thi_thpt_2022.csv\n",
      "Complete reading the file: C:\\FPT Polytechnic\\Project Tự Làm\\Điểm thi thpt 2020 - 2024\\diem_thi_thpt_2023.csv\n",
      "Complete reading the file: C:\\FPT Polytechnic\\Project Tự Làm\\Điểm thi thpt 2020 - 2024\\diem_thi_thpt_2024.csv\n"
     ]
    }
   ],
   "source": [
    "import pandas as pd\n",
    "\n",
    "file_list = [\n",
    "    r\"C:\\FPT Polytechnic\\Project Tự Làm\\Điểm thi thpt 2020 - 2024\\diem_thi_2020_2021.csv\",\n",
    "    r\"C:\\FPT Polytechnic\\Project Tự Làm\\Điểm thi thpt 2020 - 2024\\diem_thi_thpt_2022.csv\",\n",
    "    r\"C:\\FPT Polytechnic\\Project Tự Làm\\Điểm thi thpt 2020 - 2024\\diem_thi_thpt_2023.csv\",\n",
    "    r\"C:\\FPT Polytechnic\\Project Tự Làm\\Điểm thi thpt 2020 - 2024\\diem_thi_thpt_2024.csv\"\n",
    "]\n",
    "\n",
    "class NationalHighSchoolExamScore:\n",
    "    def __init__(self, file_paths):\n",
    "        self.file_paths = file_paths\n",
    "        self.df = None\n",
    "\n",
    "    def read_data(self):\n",
    "        for path in self.file_paths:\n",
    "            try:\n",
    "                df = pd.read_csv(path)\n",
    "                print(f\"Complete reading the file: {path}\")\n",
    "            except Exception as e:\n",
    "                print(f\"Unable to reading file {path}: {e}\")\n",
    "\n",
    "data = NationalHighSchoolExamScore(file_list)\n",
    "data.read_data()\n",
    "\n"
   ]
  }
 ],
 "metadata": {
  "kernelspec": {
   "display_name": "Python 3",
   "language": "python",
   "name": "python3"
  },
  "language_info": {
   "codemirror_mode": {
    "name": "ipython",
    "version": 3
   },
   "file_extension": ".py",
   "mimetype": "text/x-python",
   "name": "python",
   "nbconvert_exporter": "python",
   "pygments_lexer": "ipython3",
   "version": "3.11.9"
  }
 },
 "nbformat": 4,
 "nbformat_minor": 5
}
