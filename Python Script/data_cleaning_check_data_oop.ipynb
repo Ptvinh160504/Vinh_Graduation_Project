{
 "cells": [
  {
   "cell_type": "markdown",
   "id": "f2b45f5b",
   "metadata": {},
   "source": [
    "### Check Information Data"
   ]
  },
  {
   "cell_type": "code",
   "execution_count": 1,
   "id": "bca0fd2f",
   "metadata": {},
   "outputs": [],
   "source": [
    "import pandas as pd\n",
    "\n",
    "class NationalHighSchoolExamScore:\n",
    "    def __init__(self, file_paths):\n",
    "        self.file_paths = file_paths\n",
    "        self.dataframe = None\n",
    "\n",
    "    def check_data(self):\n",
    "            if not self.dataframe:\n",
    "                print(\"No data available\")\n",
    "                return\n",
    "\n",
    "            for path, df in self.dataframes:\n",
    "                print(f\"\\n Check data: {path}\")\n",
    "                print(f\"Row numbers: {df.shape[0]}, Column numbers: {df.shape[1]}\")\n",
    "                print(\"Columns:\", list(df.columns))\n",
    "                print(\"Duplicate Values:\", df.duplicated().sum())\n",
    "                print(\"-\" * 60)"
   ]
  }
 ],
 "metadata": {
  "kernelspec": {
   "display_name": "Python 3",
   "language": "python",
   "name": "python3"
  },
  "language_info": {
   "codemirror_mode": {
    "name": "ipython",
    "version": 3
   },
   "file_extension": ".py",
   "mimetype": "text/x-python",
   "name": "python",
   "nbconvert_exporter": "python",
   "pygments_lexer": "ipython3",
   "version": "3.11.9"
  }
 },
 "nbformat": 4,
 "nbformat_minor": 5
}
