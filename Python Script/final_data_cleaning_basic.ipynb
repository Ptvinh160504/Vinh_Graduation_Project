{
 "cells": [
  {
   "cell_type": "markdown",
   "id": "863a746a",
   "metadata": {},
   "source": [
    "# **1. Xác định ý tưởng muốn phân tích**"
   ]
  },
  {
   "cell_type": "code",
   "execution_count": 47,
   "id": "3c9a1949",
   "metadata": {},
   "outputs": [],
   "source": [
    "import pandas as pd \n",
    "import numpy as np \n",
    "import matplotlib.pyplot as plt"
   ]
  },
  {
   "cell_type": "markdown",
   "id": "631ae7ad",
   "metadata": {},
   "source": [
    "# **2. Load dữ liệu**"
   ]
  },
  {
   "cell_type": "code",
   "execution_count": null,
   "id": "31374a99",
   "metadata": {},
   "outputs": [
    {
     "name": "stderr",
     "output_type": "stream",
     "text": [
      "C:\\Users\\Phi Huynh\\AppData\\Local\\Temp\\ipykernel_23708\\3625076643.py:1: DtypeWarning: Columns (1,2,3) have mixed types. Specify dtype option on import or set low_memory=False.\n",
      "  df_score_20_21 = pd.read_csv('C:\\FPT Polytechnic\\Project Tự Làm\\Điểm thi thpt 2020 - 2024\\diem_thi_2020_2021.csv')\n"
     ]
    }
   ],
   "source": [
    "df_score_20_21 = pd.read_csv('C:\\FPT Polytechnic\\Project Tự Làm\\Điểm thi thpt 2020 - 2024\\diem_thi_2020_2021.csv')\n",
    "df_score_22 = pd.read_csv('C:\\FPT Polytechnic\\Project Tự Làm\\Điểm thi thpt 2020 - 2024\\diem_thi_thpt_2022.csv')\n",
    "df_score_23 = pd.read_csv('C:\\FPT Polytechnic\\Project Tự Làm\\Điểm thi thpt 2020 - 2024\\diem_thi_thpt_2023.csv')\n",
    "df_score_24= pd.read_csv('C:\\FPT Polytechnic\\Project Tự Làm\\Điểm thi thpt 2020 - 2024\\diem_thi_thpt_2024.csv')"
   ]
  },
  {
   "cell_type": "markdown",
   "id": "032cb3f3",
   "metadata": {},
   "source": [
    "# **3. Kiểm tra dữ liệu**"
   ]
  },
  {
   "cell_type": "markdown",
   "id": "79c50325",
   "metadata": {},
   "source": [
    "### 3.1. Kiểm tra kiểu dữ liệu từng cột"
   ]
  },
  {
   "cell_type": "code",
   "execution_count": 3,
   "id": "83a98aa1",
   "metadata": {},
   "outputs": [
    {
     "name": "stdout",
     "output_type": "stream",
     "text": [
      "<class 'pandas.core.frame.DataFrame'>\n",
      "RangeIndex: 1857877 entries, 0 to 1857876\n",
      "Data columns (total 16 columns):\n",
      " #   Column     Dtype  \n",
      "---  ------     -----  \n",
      " 0   SBD        int64  \n",
      " 1   Tên        object \n",
      " 2   Ngày Sinh  object \n",
      " 3   Giới tính  object \n",
      " 4   Toán       float64\n",
      " 5   Văn        float64\n",
      " 6   Lý         float64\n",
      " 7   Hoá        float64\n",
      " 8   Sinh       float64\n",
      " 9   Lịch Sử    float64\n",
      " 10  Địa Lý     float64\n",
      " 11  GDCD       float64\n",
      " 12  Ngoại Ngữ  float64\n",
      " 13  Year       int64  \n",
      " 14  code       int64  \n",
      " 15  province   object \n",
      "dtypes: float64(9), int64(3), object(4)\n",
      "memory usage: 226.8+ MB\n"
     ]
    }
   ],
   "source": [
    "df_score_20_21.info()"
   ]
  },
  {
   "cell_type": "code",
   "execution_count": 4,
   "id": "64aa798a",
   "metadata": {},
   "outputs": [
    {
     "name": "stdout",
     "output_type": "stream",
     "text": [
      "<class 'pandas.core.frame.DataFrame'>\n",
      "RangeIndex: 995441 entries, 0 to 995440\n",
      "Data columns (total 10 columns):\n",
      " #   Column     Non-Null Count   Dtype  \n",
      "---  ------     --------------   -----  \n",
      " 0   sbd        995441 non-null  int64  \n",
      " 1   toan       982726 non-null  float64\n",
      " 2   ngu_van    981407 non-null  float64\n",
      " 3   ngoai_ngu  870609 non-null  float64\n",
      " 4   vat_li     325523 non-null  float64\n",
      " 5   hoa_hoc    327367 non-null  float64\n",
      " 6   sinh_hoc   322198 non-null  float64\n",
      " 7   lich_su    659662 non-null  float64\n",
      " 8   dia_li     657421 non-null  float64\n",
      " 9   gdcd       554343 non-null  float64\n",
      "dtypes: float64(9), int64(1)\n",
      "memory usage: 75.9 MB\n"
     ]
    }
   ],
   "source": [
    "df_score_22.info()"
   ]
  },
  {
   "cell_type": "code",
   "execution_count": 5,
   "id": "1b67ad70",
   "metadata": {},
   "outputs": [
    {
     "name": "stdout",
     "output_type": "stream",
     "text": [
      "<class 'pandas.core.frame.DataFrame'>\n",
      "RangeIndex: 1022060 entries, 0 to 1022059\n",
      "Data columns (total 11 columns):\n",
      " #   Column        Non-Null Count    Dtype  \n",
      "---  ------        --------------    -----  \n",
      " 0   sbd           1022060 non-null  int64  \n",
      " 1   toan          1003373 non-null  float64\n",
      " 2   ngu_van       1008239 non-null  float64\n",
      " 3   ngoai_ngu     880997 non-null   float64\n",
      " 4   vat_li        327189 non-null   float64\n",
      " 5   hoa_hoc       328118 non-null   float64\n",
      " 6   sinh_hoc      324625 non-null   float64\n",
      " 7   lich_su       683447 non-null   float64\n",
      " 8   dia_li        682134 non-null   float64\n",
      " 9   gdcd          565452 non-null   float64\n",
      " 10  ma_ngoai_ngu  880997 non-null   object \n",
      "dtypes: float64(9), int64(1), object(1)\n",
      "memory usage: 85.8+ MB\n"
     ]
    }
   ],
   "source": [
    "df_score_23.info()"
   ]
  },
  {
   "cell_type": "code",
   "execution_count": 6,
   "id": "c2608582",
   "metadata": {},
   "outputs": [
    {
     "name": "stdout",
     "output_type": "stream",
     "text": [
      "<class 'pandas.core.frame.DataFrame'>\n",
      "RangeIndex: 1061605 entries, 0 to 1061604\n",
      "Data columns (total 11 columns):\n",
      " #   Column        Non-Null Count    Dtype  \n",
      "---  ------        --------------    -----  \n",
      " 0   sbd           1061605 non-null  int64  \n",
      " 1   toan          1045613 non-null  float64\n",
      " 2   ngu_van       1050101 non-null  float64\n",
      " 3   ngoai_ngu     912705 non-null   float64\n",
      " 4   vat_li        345615 non-null   float64\n",
      " 5   hoa_hoc       346518 non-null   float64\n",
      " 6   sinh_hoc      342378 non-null   float64\n",
      " 7   lich_su       706214 non-null   float64\n",
      " 8   dia_li        704682 non-null   float64\n",
      " 9   gdcd          583609 non-null   float64\n",
      " 10  ma_ngoai_ngu  912705 non-null   object \n",
      "dtypes: float64(9), int64(1), object(1)\n",
      "memory usage: 89.1+ MB\n"
     ]
    }
   ],
   "source": [
    "df_score_24.info()"
   ]
  },
  {
   "cell_type": "markdown",
   "id": "863ec4ab",
   "metadata": {},
   "source": [
    "### 3.2. Kiểm tra dữ liêu bằng cách sort"
   ]
  },
  {
   "cell_type": "code",
   "execution_count": 7,
   "id": "bb731056",
   "metadata": {},
   "outputs": [
    {
     "data": {
      "text/html": [
       "<div>\n",
       "<style scoped>\n",
       "    .dataframe tbody tr th:only-of-type {\n",
       "        vertical-align: middle;\n",
       "    }\n",
       "\n",
       "    .dataframe tbody tr th {\n",
       "        vertical-align: top;\n",
       "    }\n",
       "\n",
       "    .dataframe thead th {\n",
       "        text-align: right;\n",
       "    }\n",
       "</style>\n",
       "<table border=\"1\" class=\"dataframe\">\n",
       "  <thead>\n",
       "    <tr style=\"text-align: right;\">\n",
       "      <th></th>\n",
       "      <th>SBD</th>\n",
       "      <th>Tên</th>\n",
       "      <th>Ngày Sinh</th>\n",
       "      <th>Giới tính</th>\n",
       "      <th>Toán</th>\n",
       "      <th>Văn</th>\n",
       "      <th>Lý</th>\n",
       "      <th>Hoá</th>\n",
       "      <th>Sinh</th>\n",
       "      <th>Lịch Sử</th>\n",
       "      <th>Địa Lý</th>\n",
       "      <th>GDCD</th>\n",
       "      <th>Ngoại Ngữ</th>\n",
       "      <th>Year</th>\n",
       "      <th>code</th>\n",
       "      <th>province</th>\n",
       "    </tr>\n",
       "  </thead>\n",
       "  <tbody>\n",
       "    <tr>\n",
       "      <th>870577</th>\n",
       "      <td>1000001</td>\n",
       "      <td>NaN</td>\n",
       "      <td>NaN</td>\n",
       "      <td>NaN</td>\n",
       "      <td>2.2</td>\n",
       "      <td>3.50</td>\n",
       "      <td>NaN</td>\n",
       "      <td>NaN</td>\n",
       "      <td>NaN</td>\n",
       "      <td>2.50</td>\n",
       "      <td>5.50</td>\n",
       "      <td>NaN</td>\n",
       "      <td>NaN</td>\n",
       "      <td>2021</td>\n",
       "      <td>1</td>\n",
       "      <td>Hà Nội</td>\n",
       "    </tr>\n",
       "    <tr>\n",
       "      <th>173247</th>\n",
       "      <td>1000001</td>\n",
       "      <td>NaN</td>\n",
       "      <td>NaN</td>\n",
       "      <td>NaN</td>\n",
       "      <td>7.0</td>\n",
       "      <td>6.00</td>\n",
       "      <td>NaN</td>\n",
       "      <td>NaN</td>\n",
       "      <td>NaN</td>\n",
       "      <td>8.00</td>\n",
       "      <td>NaN</td>\n",
       "      <td>NaN</td>\n",
       "      <td>NaN</td>\n",
       "      <td>2020</td>\n",
       "      <td>1</td>\n",
       "      <td>Hà Nội</td>\n",
       "    </tr>\n",
       "    <tr>\n",
       "      <th>173272</th>\n",
       "      <td>1000002</td>\n",
       "      <td>NaN</td>\n",
       "      <td>NaN</td>\n",
       "      <td>NaN</td>\n",
       "      <td>9.0</td>\n",
       "      <td>6.00</td>\n",
       "      <td>7.25</td>\n",
       "      <td>8.75</td>\n",
       "      <td>7.25</td>\n",
       "      <td>NaN</td>\n",
       "      <td>NaN</td>\n",
       "      <td>NaN</td>\n",
       "      <td>9.4</td>\n",
       "      <td>2020</td>\n",
       "      <td>1</td>\n",
       "      <td>Hà Nội</td>\n",
       "    </tr>\n",
       "    <tr>\n",
       "      <th>870670</th>\n",
       "      <td>1000002</td>\n",
       "      <td>NaN</td>\n",
       "      <td>NaN</td>\n",
       "      <td>NaN</td>\n",
       "      <td>9.2</td>\n",
       "      <td>8.25</td>\n",
       "      <td>NaN</td>\n",
       "      <td>NaN</td>\n",
       "      <td>NaN</td>\n",
       "      <td>5.75</td>\n",
       "      <td>9.75</td>\n",
       "      <td>9.25</td>\n",
       "      <td>10.0</td>\n",
       "      <td>2021</td>\n",
       "      <td>1</td>\n",
       "      <td>Hà Nội</td>\n",
       "    </tr>\n",
       "    <tr>\n",
       "      <th>870584</th>\n",
       "      <td>1000003</td>\n",
       "      <td>NaN</td>\n",
       "      <td>NaN</td>\n",
       "      <td>NaN</td>\n",
       "      <td>4.4</td>\n",
       "      <td>6.25</td>\n",
       "      <td>NaN</td>\n",
       "      <td>NaN</td>\n",
       "      <td>NaN</td>\n",
       "      <td>4.25</td>\n",
       "      <td>4.00</td>\n",
       "      <td>NaN</td>\n",
       "      <td>NaN</td>\n",
       "      <td>2021</td>\n",
       "      <td>1</td>\n",
       "      <td>Hà Nội</td>\n",
       "    </tr>\n",
       "    <tr>\n",
       "      <th>...</th>\n",
       "      <td>...</td>\n",
       "      <td>...</td>\n",
       "      <td>...</td>\n",
       "      <td>...</td>\n",
       "      <td>...</td>\n",
       "      <td>...</td>\n",
       "      <td>...</td>\n",
       "      <td>...</td>\n",
       "      <td>...</td>\n",
       "      <td>...</td>\n",
       "      <td>...</td>\n",
       "      <td>...</td>\n",
       "      <td>...</td>\n",
       "      <td>...</td>\n",
       "      <td>...</td>\n",
       "      <td>...</td>\n",
       "    </tr>\n",
       "    <tr>\n",
       "      <th>1795579</th>\n",
       "      <td>64006834</td>\n",
       "      <td>NaN</td>\n",
       "      <td>NaN</td>\n",
       "      <td>NaN</td>\n",
       "      <td>8.6</td>\n",
       "      <td>8.25</td>\n",
       "      <td>8.25</td>\n",
       "      <td>7.00</td>\n",
       "      <td>6.50</td>\n",
       "      <td>NaN</td>\n",
       "      <td>NaN</td>\n",
       "      <td>NaN</td>\n",
       "      <td>6.2</td>\n",
       "      <td>2021</td>\n",
       "      <td>64</td>\n",
       "      <td>Hậu Giang</td>\n",
       "    </tr>\n",
       "    <tr>\n",
       "      <th>1795564</th>\n",
       "      <td>64006835</td>\n",
       "      <td>NaN</td>\n",
       "      <td>NaN</td>\n",
       "      <td>NaN</td>\n",
       "      <td>9.0</td>\n",
       "      <td>7.50</td>\n",
       "      <td>8.00</td>\n",
       "      <td>8.25</td>\n",
       "      <td>5.50</td>\n",
       "      <td>NaN</td>\n",
       "      <td>NaN</td>\n",
       "      <td>NaN</td>\n",
       "      <td>9.4</td>\n",
       "      <td>2021</td>\n",
       "      <td>64</td>\n",
       "      <td>Hậu Giang</td>\n",
       "    </tr>\n",
       "    <tr>\n",
       "      <th>1795575</th>\n",
       "      <td>64006836</td>\n",
       "      <td>NaN</td>\n",
       "      <td>NaN</td>\n",
       "      <td>NaN</td>\n",
       "      <td>4.8</td>\n",
       "      <td>7.00</td>\n",
       "      <td>NaN</td>\n",
       "      <td>NaN</td>\n",
       "      <td>NaN</td>\n",
       "      <td>3.75</td>\n",
       "      <td>7.00</td>\n",
       "      <td>9.00</td>\n",
       "      <td>4.6</td>\n",
       "      <td>2021</td>\n",
       "      <td>64</td>\n",
       "      <td>Hậu Giang</td>\n",
       "    </tr>\n",
       "    <tr>\n",
       "      <th>1795563</th>\n",
       "      <td>64006837</td>\n",
       "      <td>NaN</td>\n",
       "      <td>NaN</td>\n",
       "      <td>NaN</td>\n",
       "      <td>7.4</td>\n",
       "      <td>7.75</td>\n",
       "      <td>NaN</td>\n",
       "      <td>NaN</td>\n",
       "      <td>NaN</td>\n",
       "      <td>4.50</td>\n",
       "      <td>6.75</td>\n",
       "      <td>9.25</td>\n",
       "      <td>9.4</td>\n",
       "      <td>2021</td>\n",
       "      <td>64</td>\n",
       "      <td>Hậu Giang</td>\n",
       "    </tr>\n",
       "    <tr>\n",
       "      <th>1795577</th>\n",
       "      <td>64006838</td>\n",
       "      <td>NaN</td>\n",
       "      <td>NaN</td>\n",
       "      <td>NaN</td>\n",
       "      <td>8.0</td>\n",
       "      <td>7.75</td>\n",
       "      <td>NaN</td>\n",
       "      <td>NaN</td>\n",
       "      <td>NaN</td>\n",
       "      <td>4.25</td>\n",
       "      <td>6.50</td>\n",
       "      <td>7.50</td>\n",
       "      <td>8.2</td>\n",
       "      <td>2021</td>\n",
       "      <td>64</td>\n",
       "      <td>Hậu Giang</td>\n",
       "    </tr>\n",
       "  </tbody>\n",
       "</table>\n",
       "<p>1857877 rows × 16 columns</p>\n",
       "</div>"
      ],
      "text/plain": [
       "              SBD  Tên Ngày Sinh Giới tính  Toán   Văn    Lý   Hoá  Sinh  \\\n",
       "870577    1000001  NaN       NaN       NaN   2.2  3.50   NaN   NaN   NaN   \n",
       "173247    1000001  NaN       NaN       NaN   7.0  6.00   NaN   NaN   NaN   \n",
       "173272    1000002  NaN       NaN       NaN   9.0  6.00  7.25  8.75  7.25   \n",
       "870670    1000002  NaN       NaN       NaN   9.2  8.25   NaN   NaN   NaN   \n",
       "870584    1000003  NaN       NaN       NaN   4.4  6.25   NaN   NaN   NaN   \n",
       "...           ...  ...       ...       ...   ...   ...   ...   ...   ...   \n",
       "1795579  64006834  NaN       NaN       NaN   8.6  8.25  8.25  7.00  6.50   \n",
       "1795564  64006835  NaN       NaN       NaN   9.0  7.50  8.00  8.25  5.50   \n",
       "1795575  64006836  NaN       NaN       NaN   4.8  7.00   NaN   NaN   NaN   \n",
       "1795563  64006837  NaN       NaN       NaN   7.4  7.75   NaN   NaN   NaN   \n",
       "1795577  64006838  NaN       NaN       NaN   8.0  7.75   NaN   NaN   NaN   \n",
       "\n",
       "         Lịch Sử  Địa Lý  GDCD  Ngoại Ngữ  Year  code   province  \n",
       "870577      2.50    5.50   NaN        NaN  2021     1     Hà Nội  \n",
       "173247      8.00     NaN   NaN        NaN  2020     1     Hà Nội  \n",
       "173272       NaN     NaN   NaN        9.4  2020     1     Hà Nội  \n",
       "870670      5.75    9.75  9.25       10.0  2021     1     Hà Nội  \n",
       "870584      4.25    4.00   NaN        NaN  2021     1     Hà Nội  \n",
       "...          ...     ...   ...        ...   ...   ...        ...  \n",
       "1795579      NaN     NaN   NaN        6.2  2021    64  Hậu Giang  \n",
       "1795564      NaN     NaN   NaN        9.4  2021    64  Hậu Giang  \n",
       "1795575     3.75    7.00  9.00        4.6  2021    64  Hậu Giang  \n",
       "1795563     4.50    6.75  9.25        9.4  2021    64  Hậu Giang  \n",
       "1795577     4.25    6.50  7.50        8.2  2021    64  Hậu Giang  \n",
       "\n",
       "[1857877 rows x 16 columns]"
      ]
     },
     "execution_count": 7,
     "metadata": {},
     "output_type": "execute_result"
    }
   ],
   "source": [
    "df_score_20_21.sort_values(by = 'SBD', ascending= True)"
   ]
  },
  {
   "cell_type": "code",
   "execution_count": 8,
   "id": "0bdb651c",
   "metadata": {},
   "outputs": [
    {
     "data": {
      "text/html": [
       "<div>\n",
       "<style scoped>\n",
       "    .dataframe tbody tr th:only-of-type {\n",
       "        vertical-align: middle;\n",
       "    }\n",
       "\n",
       "    .dataframe tbody tr th {\n",
       "        vertical-align: top;\n",
       "    }\n",
       "\n",
       "    .dataframe thead th {\n",
       "        text-align: right;\n",
       "    }\n",
       "</style>\n",
       "<table border=\"1\" class=\"dataframe\">\n",
       "  <thead>\n",
       "    <tr style=\"text-align: right;\">\n",
       "      <th></th>\n",
       "      <th>sbd</th>\n",
       "      <th>toan</th>\n",
       "      <th>ngu_van</th>\n",
       "      <th>ngoai_ngu</th>\n",
       "      <th>vat_li</th>\n",
       "      <th>hoa_hoc</th>\n",
       "      <th>sinh_hoc</th>\n",
       "      <th>lich_su</th>\n",
       "      <th>dia_li</th>\n",
       "      <th>gdcd</th>\n",
       "    </tr>\n",
       "  </thead>\n",
       "  <tbody>\n",
       "    <tr>\n",
       "      <th>995440</th>\n",
       "      <td>64006588</td>\n",
       "      <td>6.6</td>\n",
       "      <td>4.50</td>\n",
       "      <td>3.2</td>\n",
       "      <td>NaN</td>\n",
       "      <td>NaN</td>\n",
       "      <td>NaN</td>\n",
       "      <td>3.00</td>\n",
       "      <td>6.00</td>\n",
       "      <td>7.50</td>\n",
       "    </tr>\n",
       "    <tr>\n",
       "      <th>995439</th>\n",
       "      <td>64006587</td>\n",
       "      <td>7.6</td>\n",
       "      <td>6.75</td>\n",
       "      <td>7.0</td>\n",
       "      <td>NaN</td>\n",
       "      <td>NaN</td>\n",
       "      <td>NaN</td>\n",
       "      <td>8.75</td>\n",
       "      <td>7.25</td>\n",
       "      <td>9.75</td>\n",
       "    </tr>\n",
       "    <tr>\n",
       "      <th>995438</th>\n",
       "      <td>64006586</td>\n",
       "      <td>5.8</td>\n",
       "      <td>6.00</td>\n",
       "      <td>6.6</td>\n",
       "      <td>NaN</td>\n",
       "      <td>NaN</td>\n",
       "      <td>NaN</td>\n",
       "      <td>7.25</td>\n",
       "      <td>8.00</td>\n",
       "      <td>8.00</td>\n",
       "    </tr>\n",
       "    <tr>\n",
       "      <th>995437</th>\n",
       "      <td>64006585</td>\n",
       "      <td>5.6</td>\n",
       "      <td>6.50</td>\n",
       "      <td>2.8</td>\n",
       "      <td>NaN</td>\n",
       "      <td>NaN</td>\n",
       "      <td>NaN</td>\n",
       "      <td>6.25</td>\n",
       "      <td>6.75</td>\n",
       "      <td>8.50</td>\n",
       "    </tr>\n",
       "    <tr>\n",
       "      <th>995436</th>\n",
       "      <td>64006584</td>\n",
       "      <td>8.4</td>\n",
       "      <td>6.75</td>\n",
       "      <td>4.6</td>\n",
       "      <td>NaN</td>\n",
       "      <td>NaN</td>\n",
       "      <td>NaN</td>\n",
       "      <td>6.50</td>\n",
       "      <td>6.75</td>\n",
       "      <td>9.00</td>\n",
       "    </tr>\n",
       "    <tr>\n",
       "      <th>...</th>\n",
       "      <td>...</td>\n",
       "      <td>...</td>\n",
       "      <td>...</td>\n",
       "      <td>...</td>\n",
       "      <td>...</td>\n",
       "      <td>...</td>\n",
       "      <td>...</td>\n",
       "      <td>...</td>\n",
       "      <td>...</td>\n",
       "      <td>...</td>\n",
       "    </tr>\n",
       "    <tr>\n",
       "      <th>4</th>\n",
       "      <td>1000005</td>\n",
       "      <td>7.2</td>\n",
       "      <td>8.50</td>\n",
       "      <td>9.0</td>\n",
       "      <td>NaN</td>\n",
       "      <td>NaN</td>\n",
       "      <td>NaN</td>\n",
       "      <td>8.00</td>\n",
       "      <td>8.50</td>\n",
       "      <td>8.25</td>\n",
       "    </tr>\n",
       "    <tr>\n",
       "      <th>3</th>\n",
       "      <td>1000004</td>\n",
       "      <td>7.4</td>\n",
       "      <td>7.50</td>\n",
       "      <td>8.6</td>\n",
       "      <td>NaN</td>\n",
       "      <td>NaN</td>\n",
       "      <td>NaN</td>\n",
       "      <td>7.50</td>\n",
       "      <td>6.50</td>\n",
       "      <td>7.50</td>\n",
       "    </tr>\n",
       "    <tr>\n",
       "      <th>2</th>\n",
       "      <td>1000003</td>\n",
       "      <td>5.8</td>\n",
       "      <td>7.50</td>\n",
       "      <td>5.0</td>\n",
       "      <td>NaN</td>\n",
       "      <td>NaN</td>\n",
       "      <td>NaN</td>\n",
       "      <td>7.25</td>\n",
       "      <td>5.50</td>\n",
       "      <td>8.75</td>\n",
       "    </tr>\n",
       "    <tr>\n",
       "      <th>1</th>\n",
       "      <td>1000002</td>\n",
       "      <td>8.4</td>\n",
       "      <td>6.75</td>\n",
       "      <td>7.6</td>\n",
       "      <td>NaN</td>\n",
       "      <td>NaN</td>\n",
       "      <td>NaN</td>\n",
       "      <td>8.50</td>\n",
       "      <td>7.50</td>\n",
       "      <td>8.25</td>\n",
       "    </tr>\n",
       "    <tr>\n",
       "      <th>0</th>\n",
       "      <td>1000001</td>\n",
       "      <td>3.6</td>\n",
       "      <td>5.00</td>\n",
       "      <td>4.0</td>\n",
       "      <td>NaN</td>\n",
       "      <td>NaN</td>\n",
       "      <td>NaN</td>\n",
       "      <td>2.75</td>\n",
       "      <td>6.00</td>\n",
       "      <td>8.75</td>\n",
       "    </tr>\n",
       "  </tbody>\n",
       "</table>\n",
       "<p>995441 rows × 10 columns</p>\n",
       "</div>"
      ],
      "text/plain": [
       "             sbd  toan  ngu_van  ngoai_ngu  vat_li  hoa_hoc  sinh_hoc  \\\n",
       "995440  64006588   6.6     4.50        3.2     NaN      NaN       NaN   \n",
       "995439  64006587   7.6     6.75        7.0     NaN      NaN       NaN   \n",
       "995438  64006586   5.8     6.00        6.6     NaN      NaN       NaN   \n",
       "995437  64006585   5.6     6.50        2.8     NaN      NaN       NaN   \n",
       "995436  64006584   8.4     6.75        4.6     NaN      NaN       NaN   \n",
       "...          ...   ...      ...        ...     ...      ...       ...   \n",
       "4        1000005   7.2     8.50        9.0     NaN      NaN       NaN   \n",
       "3        1000004   7.4     7.50        8.6     NaN      NaN       NaN   \n",
       "2        1000003   5.8     7.50        5.0     NaN      NaN       NaN   \n",
       "1        1000002   8.4     6.75        7.6     NaN      NaN       NaN   \n",
       "0        1000001   3.6     5.00        4.0     NaN      NaN       NaN   \n",
       "\n",
       "        lich_su  dia_li  gdcd  \n",
       "995440     3.00    6.00  7.50  \n",
       "995439     8.75    7.25  9.75  \n",
       "995438     7.25    8.00  8.00  \n",
       "995437     6.25    6.75  8.50  \n",
       "995436     6.50    6.75  9.00  \n",
       "...         ...     ...   ...  \n",
       "4          8.00    8.50  8.25  \n",
       "3          7.50    6.50  7.50  \n",
       "2          7.25    5.50  8.75  \n",
       "1          8.50    7.50  8.25  \n",
       "0          2.75    6.00  8.75  \n",
       "\n",
       "[995441 rows x 10 columns]"
      ]
     },
     "execution_count": 8,
     "metadata": {},
     "output_type": "execute_result"
    }
   ],
   "source": [
    "df_score_22.sort_values(by = 'sbd', ascending= False)"
   ]
  },
  {
   "cell_type": "code",
   "execution_count": 9,
   "id": "88ffbed3",
   "metadata": {},
   "outputs": [
    {
     "data": {
      "text/html": [
       "<div>\n",
       "<style scoped>\n",
       "    .dataframe tbody tr th:only-of-type {\n",
       "        vertical-align: middle;\n",
       "    }\n",
       "\n",
       "    .dataframe tbody tr th {\n",
       "        vertical-align: top;\n",
       "    }\n",
       "\n",
       "    .dataframe thead th {\n",
       "        text-align: right;\n",
       "    }\n",
       "</style>\n",
       "<table border=\"1\" class=\"dataframe\">\n",
       "  <thead>\n",
       "    <tr style=\"text-align: right;\">\n",
       "      <th></th>\n",
       "      <th>sbd</th>\n",
       "      <th>toan</th>\n",
       "      <th>ngu_van</th>\n",
       "      <th>ngoai_ngu</th>\n",
       "      <th>vat_li</th>\n",
       "      <th>hoa_hoc</th>\n",
       "      <th>sinh_hoc</th>\n",
       "      <th>lich_su</th>\n",
       "      <th>dia_li</th>\n",
       "      <th>gdcd</th>\n",
       "      <th>ma_ngoai_ngu</th>\n",
       "    </tr>\n",
       "  </thead>\n",
       "  <tbody>\n",
       "    <tr>\n",
       "      <th>0</th>\n",
       "      <td>1000001</td>\n",
       "      <td>8.4</td>\n",
       "      <td>8.50</td>\n",
       "      <td>9.2</td>\n",
       "      <td>NaN</td>\n",
       "      <td>NaN</td>\n",
       "      <td>NaN</td>\n",
       "      <td>6.75</td>\n",
       "      <td>6.00</td>\n",
       "      <td>9.00</td>\n",
       "      <td>N1</td>\n",
       "    </tr>\n",
       "    <tr>\n",
       "      <th>1</th>\n",
       "      <td>1000002</td>\n",
       "      <td>7.2</td>\n",
       "      <td>8.50</td>\n",
       "      <td>9.2</td>\n",
       "      <td>NaN</td>\n",
       "      <td>NaN</td>\n",
       "      <td>NaN</td>\n",
       "      <td>8.75</td>\n",
       "      <td>6.50</td>\n",
       "      <td>8.50</td>\n",
       "      <td>N1</td>\n",
       "    </tr>\n",
       "    <tr>\n",
       "      <th>2</th>\n",
       "      <td>1000003</td>\n",
       "      <td>NaN</td>\n",
       "      <td>6.50</td>\n",
       "      <td>NaN</td>\n",
       "      <td>NaN</td>\n",
       "      <td>NaN</td>\n",
       "      <td>NaN</td>\n",
       "      <td>9.25</td>\n",
       "      <td>7.50</td>\n",
       "      <td>NaN</td>\n",
       "      <td>NaN</td>\n",
       "    </tr>\n",
       "    <tr>\n",
       "      <th>3</th>\n",
       "      <td>1000004</td>\n",
       "      <td>7.8</td>\n",
       "      <td>8.25</td>\n",
       "      <td>7.8</td>\n",
       "      <td>NaN</td>\n",
       "      <td>NaN</td>\n",
       "      <td>NaN</td>\n",
       "      <td>4.50</td>\n",
       "      <td>6.25</td>\n",
       "      <td>8.25</td>\n",
       "      <td>N1</td>\n",
       "    </tr>\n",
       "    <tr>\n",
       "      <th>4</th>\n",
       "      <td>1000005</td>\n",
       "      <td>7.2</td>\n",
       "      <td>8.00</td>\n",
       "      <td>7.8</td>\n",
       "      <td>NaN</td>\n",
       "      <td>NaN</td>\n",
       "      <td>NaN</td>\n",
       "      <td>4.75</td>\n",
       "      <td>6.75</td>\n",
       "      <td>8.25</td>\n",
       "      <td>N1</td>\n",
       "    </tr>\n",
       "    <tr>\n",
       "      <th>...</th>\n",
       "      <td>...</td>\n",
       "      <td>...</td>\n",
       "      <td>...</td>\n",
       "      <td>...</td>\n",
       "      <td>...</td>\n",
       "      <td>...</td>\n",
       "      <td>...</td>\n",
       "      <td>...</td>\n",
       "      <td>...</td>\n",
       "      <td>...</td>\n",
       "      <td>...</td>\n",
       "    </tr>\n",
       "    <tr>\n",
       "      <th>1022055</th>\n",
       "      <td>64006933</td>\n",
       "      <td>7.8</td>\n",
       "      <td>6.75</td>\n",
       "      <td>5.4</td>\n",
       "      <td>NaN</td>\n",
       "      <td>NaN</td>\n",
       "      <td>NaN</td>\n",
       "      <td>8.50</td>\n",
       "      <td>7.75</td>\n",
       "      <td>9.75</td>\n",
       "      <td>N1</td>\n",
       "    </tr>\n",
       "    <tr>\n",
       "      <th>1022056</th>\n",
       "      <td>64006934</td>\n",
       "      <td>7.4</td>\n",
       "      <td>7.50</td>\n",
       "      <td>6.0</td>\n",
       "      <td>6.0</td>\n",
       "      <td>5.75</td>\n",
       "      <td>6.25</td>\n",
       "      <td>NaN</td>\n",
       "      <td>NaN</td>\n",
       "      <td>NaN</td>\n",
       "      <td>N1</td>\n",
       "    </tr>\n",
       "    <tr>\n",
       "      <th>1022057</th>\n",
       "      <td>64006935</td>\n",
       "      <td>6.4</td>\n",
       "      <td>7.00</td>\n",
       "      <td>3.0</td>\n",
       "      <td>NaN</td>\n",
       "      <td>NaN</td>\n",
       "      <td>NaN</td>\n",
       "      <td>5.50</td>\n",
       "      <td>5.75</td>\n",
       "      <td>7.25</td>\n",
       "      <td>N1</td>\n",
       "    </tr>\n",
       "    <tr>\n",
       "      <th>1022058</th>\n",
       "      <td>64006936</td>\n",
       "      <td>6.6</td>\n",
       "      <td>7.00</td>\n",
       "      <td>5.8</td>\n",
       "      <td>NaN</td>\n",
       "      <td>NaN</td>\n",
       "      <td>NaN</td>\n",
       "      <td>6.50</td>\n",
       "      <td>6.50</td>\n",
       "      <td>9.25</td>\n",
       "      <td>N1</td>\n",
       "    </tr>\n",
       "    <tr>\n",
       "      <th>1022059</th>\n",
       "      <td>64006937</td>\n",
       "      <td>NaN</td>\n",
       "      <td>5.00</td>\n",
       "      <td>NaN</td>\n",
       "      <td>NaN</td>\n",
       "      <td>NaN</td>\n",
       "      <td>NaN</td>\n",
       "      <td>4.25</td>\n",
       "      <td>4.75</td>\n",
       "      <td>NaN</td>\n",
       "      <td>NaN</td>\n",
       "    </tr>\n",
       "  </tbody>\n",
       "</table>\n",
       "<p>1022060 rows × 11 columns</p>\n",
       "</div>"
      ],
      "text/plain": [
       "              sbd  toan  ngu_van  ngoai_ngu  vat_li  hoa_hoc  sinh_hoc  \\\n",
       "0         1000001   8.4     8.50        9.2     NaN      NaN       NaN   \n",
       "1         1000002   7.2     8.50        9.2     NaN      NaN       NaN   \n",
       "2         1000003   NaN     6.50        NaN     NaN      NaN       NaN   \n",
       "3         1000004   7.8     8.25        7.8     NaN      NaN       NaN   \n",
       "4         1000005   7.2     8.00        7.8     NaN      NaN       NaN   \n",
       "...           ...   ...      ...        ...     ...      ...       ...   \n",
       "1022055  64006933   7.8     6.75        5.4     NaN      NaN       NaN   \n",
       "1022056  64006934   7.4     7.50        6.0     6.0     5.75      6.25   \n",
       "1022057  64006935   6.4     7.00        3.0     NaN      NaN       NaN   \n",
       "1022058  64006936   6.6     7.00        5.8     NaN      NaN       NaN   \n",
       "1022059  64006937   NaN     5.00        NaN     NaN      NaN       NaN   \n",
       "\n",
       "         lich_su  dia_li  gdcd ma_ngoai_ngu  \n",
       "0           6.75    6.00  9.00           N1  \n",
       "1           8.75    6.50  8.50           N1  \n",
       "2           9.25    7.50   NaN          NaN  \n",
       "3           4.50    6.25  8.25           N1  \n",
       "4           4.75    6.75  8.25           N1  \n",
       "...          ...     ...   ...          ...  \n",
       "1022055     8.50    7.75  9.75           N1  \n",
       "1022056      NaN     NaN   NaN           N1  \n",
       "1022057     5.50    5.75  7.25           N1  \n",
       "1022058     6.50    6.50  9.25           N1  \n",
       "1022059     4.25    4.75   NaN          NaN  \n",
       "\n",
       "[1022060 rows x 11 columns]"
      ]
     },
     "execution_count": 9,
     "metadata": {},
     "output_type": "execute_result"
    }
   ],
   "source": [
    "df_score_23.sort_values(by = 'sbd', ascending= True)"
   ]
  },
  {
   "cell_type": "code",
   "execution_count": 10,
   "id": "632b4056",
   "metadata": {},
   "outputs": [
    {
     "data": {
      "text/html": [
       "<div>\n",
       "<style scoped>\n",
       "    .dataframe tbody tr th:only-of-type {\n",
       "        vertical-align: middle;\n",
       "    }\n",
       "\n",
       "    .dataframe tbody tr th {\n",
       "        vertical-align: top;\n",
       "    }\n",
       "\n",
       "    .dataframe thead th {\n",
       "        text-align: right;\n",
       "    }\n",
       "</style>\n",
       "<table border=\"1\" class=\"dataframe\">\n",
       "  <thead>\n",
       "    <tr style=\"text-align: right;\">\n",
       "      <th></th>\n",
       "      <th>sbd</th>\n",
       "      <th>toan</th>\n",
       "      <th>ngu_van</th>\n",
       "      <th>ngoai_ngu</th>\n",
       "      <th>vat_li</th>\n",
       "      <th>hoa_hoc</th>\n",
       "      <th>sinh_hoc</th>\n",
       "      <th>lich_su</th>\n",
       "      <th>dia_li</th>\n",
       "      <th>gdcd</th>\n",
       "      <th>ma_ngoai_ngu</th>\n",
       "    </tr>\n",
       "  </thead>\n",
       "  <tbody>\n",
       "    <tr>\n",
       "      <th>0</th>\n",
       "      <td>1000001</td>\n",
       "      <td>8.4</td>\n",
       "      <td>6.75</td>\n",
       "      <td>8.0</td>\n",
       "      <td>6.00</td>\n",
       "      <td>5.25</td>\n",
       "      <td>5.0</td>\n",
       "      <td>NaN</td>\n",
       "      <td>NaN</td>\n",
       "      <td>NaN</td>\n",
       "      <td>N1</td>\n",
       "    </tr>\n",
       "    <tr>\n",
       "      <th>1</th>\n",
       "      <td>1000002</td>\n",
       "      <td>8.6</td>\n",
       "      <td>8.50</td>\n",
       "      <td>7.2</td>\n",
       "      <td>NaN</td>\n",
       "      <td>NaN</td>\n",
       "      <td>NaN</td>\n",
       "      <td>7.25</td>\n",
       "      <td>6.00</td>\n",
       "      <td>8.00</td>\n",
       "      <td>N1</td>\n",
       "    </tr>\n",
       "    <tr>\n",
       "      <th>2</th>\n",
       "      <td>1000003</td>\n",
       "      <td>8.2</td>\n",
       "      <td>8.75</td>\n",
       "      <td>8.2</td>\n",
       "      <td>NaN</td>\n",
       "      <td>NaN</td>\n",
       "      <td>NaN</td>\n",
       "      <td>7.25</td>\n",
       "      <td>7.25</td>\n",
       "      <td>8.75</td>\n",
       "      <td>N1</td>\n",
       "    </tr>\n",
       "    <tr>\n",
       "      <th>3</th>\n",
       "      <td>1000004</td>\n",
       "      <td>4.8</td>\n",
       "      <td>8.50</td>\n",
       "      <td>7.4</td>\n",
       "      <td>NaN</td>\n",
       "      <td>NaN</td>\n",
       "      <td>NaN</td>\n",
       "      <td>7.00</td>\n",
       "      <td>6.00</td>\n",
       "      <td>7.50</td>\n",
       "      <td>N1</td>\n",
       "    </tr>\n",
       "    <tr>\n",
       "      <th>4</th>\n",
       "      <td>1000005</td>\n",
       "      <td>8.6</td>\n",
       "      <td>9.00</td>\n",
       "      <td>7.8</td>\n",
       "      <td>NaN</td>\n",
       "      <td>NaN</td>\n",
       "      <td>NaN</td>\n",
       "      <td>9.00</td>\n",
       "      <td>8.75</td>\n",
       "      <td>8.50</td>\n",
       "      <td>N1</td>\n",
       "    </tr>\n",
       "    <tr>\n",
       "      <th>...</th>\n",
       "      <td>...</td>\n",
       "      <td>...</td>\n",
       "      <td>...</td>\n",
       "      <td>...</td>\n",
       "      <td>...</td>\n",
       "      <td>...</td>\n",
       "      <td>...</td>\n",
       "      <td>...</td>\n",
       "      <td>...</td>\n",
       "      <td>...</td>\n",
       "      <td>...</td>\n",
       "    </tr>\n",
       "    <tr>\n",
       "      <th>1061600</th>\n",
       "      <td>64007282</td>\n",
       "      <td>4.2</td>\n",
       "      <td>6.00</td>\n",
       "      <td>3.0</td>\n",
       "      <td>NaN</td>\n",
       "      <td>NaN</td>\n",
       "      <td>NaN</td>\n",
       "      <td>5.25</td>\n",
       "      <td>6.25</td>\n",
       "      <td>7.50</td>\n",
       "      <td>N1</td>\n",
       "    </tr>\n",
       "    <tr>\n",
       "      <th>1061601</th>\n",
       "      <td>64007283</td>\n",
       "      <td>5.2</td>\n",
       "      <td>6.00</td>\n",
       "      <td>3.6</td>\n",
       "      <td>NaN</td>\n",
       "      <td>NaN</td>\n",
       "      <td>NaN</td>\n",
       "      <td>6.25</td>\n",
       "      <td>5.75</td>\n",
       "      <td>7.75</td>\n",
       "      <td>N1</td>\n",
       "    </tr>\n",
       "    <tr>\n",
       "      <th>1061602</th>\n",
       "      <td>64007284</td>\n",
       "      <td>7.2</td>\n",
       "      <td>8.00</td>\n",
       "      <td>7.0</td>\n",
       "      <td>6.25</td>\n",
       "      <td>7.00</td>\n",
       "      <td>8.0</td>\n",
       "      <td>NaN</td>\n",
       "      <td>NaN</td>\n",
       "      <td>NaN</td>\n",
       "      <td>N1</td>\n",
       "    </tr>\n",
       "    <tr>\n",
       "      <th>1061603</th>\n",
       "      <td>64007285</td>\n",
       "      <td>5.2</td>\n",
       "      <td>5.25</td>\n",
       "      <td>4.4</td>\n",
       "      <td>NaN</td>\n",
       "      <td>NaN</td>\n",
       "      <td>NaN</td>\n",
       "      <td>4.75</td>\n",
       "      <td>6.50</td>\n",
       "      <td>8.75</td>\n",
       "      <td>N1</td>\n",
       "    </tr>\n",
       "    <tr>\n",
       "      <th>1061604</th>\n",
       "      <td>64007286</td>\n",
       "      <td>5.8</td>\n",
       "      <td>8.25</td>\n",
       "      <td>2.8</td>\n",
       "      <td>NaN</td>\n",
       "      <td>NaN</td>\n",
       "      <td>NaN</td>\n",
       "      <td>5.00</td>\n",
       "      <td>7.25</td>\n",
       "      <td>8.25</td>\n",
       "      <td>N1</td>\n",
       "    </tr>\n",
       "  </tbody>\n",
       "</table>\n",
       "<p>1061605 rows × 11 columns</p>\n",
       "</div>"
      ],
      "text/plain": [
       "              sbd  toan  ngu_van  ngoai_ngu  vat_li  hoa_hoc  sinh_hoc  \\\n",
       "0         1000001   8.4     6.75        8.0    6.00     5.25       5.0   \n",
       "1         1000002   8.6     8.50        7.2     NaN      NaN       NaN   \n",
       "2         1000003   8.2     8.75        8.2     NaN      NaN       NaN   \n",
       "3         1000004   4.8     8.50        7.4     NaN      NaN       NaN   \n",
       "4         1000005   8.6     9.00        7.8     NaN      NaN       NaN   \n",
       "...           ...   ...      ...        ...     ...      ...       ...   \n",
       "1061600  64007282   4.2     6.00        3.0     NaN      NaN       NaN   \n",
       "1061601  64007283   5.2     6.00        3.6     NaN      NaN       NaN   \n",
       "1061602  64007284   7.2     8.00        7.0    6.25     7.00       8.0   \n",
       "1061603  64007285   5.2     5.25        4.4     NaN      NaN       NaN   \n",
       "1061604  64007286   5.8     8.25        2.8     NaN      NaN       NaN   \n",
       "\n",
       "         lich_su  dia_li  gdcd ma_ngoai_ngu  \n",
       "0            NaN     NaN   NaN           N1  \n",
       "1           7.25    6.00  8.00           N1  \n",
       "2           7.25    7.25  8.75           N1  \n",
       "3           7.00    6.00  7.50           N1  \n",
       "4           9.00    8.75  8.50           N1  \n",
       "...          ...     ...   ...          ...  \n",
       "1061600     5.25    6.25  7.50           N1  \n",
       "1061601     6.25    5.75  7.75           N1  \n",
       "1061602      NaN     NaN   NaN           N1  \n",
       "1061603     4.75    6.50  8.75           N1  \n",
       "1061604     5.00    7.25  8.25           N1  \n",
       "\n",
       "[1061605 rows x 11 columns]"
      ]
     },
     "execution_count": 10,
     "metadata": {},
     "output_type": "execute_result"
    }
   ],
   "source": [
    "df_score_24.sort_values(by = 'sbd', ascending= True)"
   ]
  },
  {
   "cell_type": "markdown",
   "id": "795aaf86",
   "metadata": {},
   "source": [
    "# **4. Data Cleaning (Data Types, Null Values, Duplicate Values,...)**"
   ]
  },
  {
   "cell_type": "markdown",
   "id": "fa367116",
   "metadata": {},
   "source": [
    "#### **4.1. Xử lý năm 2020_2021**"
   ]
  },
  {
   "cell_type": "markdown",
   "id": "c1e6ea32",
   "metadata": {},
   "source": [
    "##### 4.1.1. Xóa các cột không cần thiết"
   ]
  },
  {
   "cell_type": "code",
   "execution_count": 11,
   "id": "36fcf464",
   "metadata": {},
   "outputs": [],
   "source": [
    "df_score_20_21.drop(columns = ['Tên', 'Ngày Sinh', 'Giới tính'], inplace = True)"
   ]
  },
  {
   "cell_type": "markdown",
   "id": "fc1d0bd3",
   "metadata": {},
   "source": [
    "#### 4.1.2. Tạo cột 'ma_ngoai_ngu'"
   ]
  },
  {
   "cell_type": "code",
   "execution_count": 12,
   "id": "8fda34cc",
   "metadata": {},
   "outputs": [],
   "source": [
    "df_score_20_21['ma_ngoai_ngu'] = None"
   ]
  },
  {
   "cell_type": "code",
   "execution_count": 13,
   "id": "4a1b6a05",
   "metadata": {},
   "outputs": [],
   "source": [
    "df_score_20_21 = df_score_20_21.rename(columns = {'SBD': 'sbd',\n",
    "                                                  'Toán': 'toan',\n",
    "                                                  'Văn': 'ngu_van',\n",
    "                                                  'Lý': 'vat_li',\n",
    "                                                  'Hoá': 'hoa_hoc',\n",
    "                                                  'Sinh': 'sinh_hoc',\n",
    "                                                  'Lịch Sử': 'lich_su',\n",
    "                                                  'Địa Lý': 'dia_li',\n",
    "                                                  'GDCD': 'gdcd',\n",
    "                                                  'Ngoại Ngữ': 'ngoai_ngu',\n",
    "                                                  'Year': 'year'})"
   ]
  },
  {
   "cell_type": "markdown",
   "id": "c2cd6e9a",
   "metadata": {},
   "source": [
    "#### **4.2.1. Import File 'ma_hoi_dong_thi_thpt.csv'**"
   ]
  },
  {
   "cell_type": "code",
   "execution_count": 14,
   "id": "26f8836a",
   "metadata": {},
   "outputs": [],
   "source": [
    "df_province = pd.read_excel('C:\\FPT Polytechnic\\Project Tự Làm\\Điểm thi thpt 2020 - 2024\\danh_sach_hoi_dong_thi.xlsx')"
   ]
  },
  {
   "cell_type": "code",
   "execution_count": 15,
   "id": "c4036f57",
   "metadata": {},
   "outputs": [
    {
     "data": {
      "text/html": [
       "<div>\n",
       "<style scoped>\n",
       "    .dataframe tbody tr th:only-of-type {\n",
       "        vertical-align: middle;\n",
       "    }\n",
       "\n",
       "    .dataframe tbody tr th {\n",
       "        vertical-align: top;\n",
       "    }\n",
       "\n",
       "    .dataframe thead th {\n",
       "        text-align: right;\n",
       "    }\n",
       "</style>\n",
       "<table border=\"1\" class=\"dataframe\">\n",
       "  <thead>\n",
       "    <tr style=\"text-align: right;\">\n",
       "      <th></th>\n",
       "      <th>Mã hội đồng</th>\n",
       "      <th>Tên hội đồng thi</th>\n",
       "      <th>Tên Tỉnh</th>\n",
       "    </tr>\n",
       "  </thead>\n",
       "  <tbody>\n",
       "    <tr>\n",
       "      <th>0</th>\n",
       "      <td>1</td>\n",
       "      <td>Sở GD&amp;ĐT Hà Nội</td>\n",
       "      <td>Hà Nội</td>\n",
       "    </tr>\n",
       "    <tr>\n",
       "      <th>1</th>\n",
       "      <td>2</td>\n",
       "      <td>Sở GD&amp;ĐT TP. Hồ Chí Minh</td>\n",
       "      <td>TP. Hồ Chí Minh</td>\n",
       "    </tr>\n",
       "    <tr>\n",
       "      <th>2</th>\n",
       "      <td>3</td>\n",
       "      <td>Sở GD&amp;ĐT Hải Phòng</td>\n",
       "      <td>Hải Phòng</td>\n",
       "    </tr>\n",
       "    <tr>\n",
       "      <th>3</th>\n",
       "      <td>4</td>\n",
       "      <td>Sở GD&amp;ĐT Đà Nẵng</td>\n",
       "      <td>Đà Nẵng</td>\n",
       "    </tr>\n",
       "    <tr>\n",
       "      <th>4</th>\n",
       "      <td>5</td>\n",
       "      <td>Sở GD&amp;ĐT Hà Giang</td>\n",
       "      <td>Hà Giang</td>\n",
       "    </tr>\n",
       "    <tr>\n",
       "      <th>...</th>\n",
       "      <td>...</td>\n",
       "      <td>...</td>\n",
       "      <td>...</td>\n",
       "    </tr>\n",
       "    <tr>\n",
       "      <th>59</th>\n",
       "      <td>60</td>\n",
       "      <td>Sở GD&amp;ĐT Cà Mau</td>\n",
       "      <td>Cà Mau</td>\n",
       "    </tr>\n",
       "    <tr>\n",
       "      <th>60</th>\n",
       "      <td>61</td>\n",
       "      <td>Sở GD&amp;ĐT Điện Biên</td>\n",
       "      <td>Điện Biên</td>\n",
       "    </tr>\n",
       "    <tr>\n",
       "      <th>61</th>\n",
       "      <td>62</td>\n",
       "      <td>Sở GD&amp;ĐT Đắk Nông</td>\n",
       "      <td>Đắk Nông</td>\n",
       "    </tr>\n",
       "    <tr>\n",
       "      <th>62</th>\n",
       "      <td>63</td>\n",
       "      <td>Sở GD&amp;ĐT Hậu Giang</td>\n",
       "      <td>Hậu Giang</td>\n",
       "    </tr>\n",
       "    <tr>\n",
       "      <th>63</th>\n",
       "      <td>64</td>\n",
       "      <td>Cục Nhà trường - Bộ Quốc phòng</td>\n",
       "      <td>Bộ Quốc phòng</td>\n",
       "    </tr>\n",
       "  </tbody>\n",
       "</table>\n",
       "<p>64 rows × 3 columns</p>\n",
       "</div>"
      ],
      "text/plain": [
       "    Mã hội đồng                Tên hội đồng thi         Tên Tỉnh\n",
       "0             1                 Sở GD&ĐT Hà Nội           Hà Nội\n",
       "1             2        Sở GD&ĐT TP. Hồ Chí Minh  TP. Hồ Chí Minh\n",
       "2             3              Sở GD&ĐT Hải Phòng        Hải Phòng\n",
       "3             4                Sở GD&ĐT Đà Nẵng          Đà Nẵng\n",
       "4             5               Sở GD&ĐT Hà Giang         Hà Giang\n",
       "..          ...                             ...              ...\n",
       "59           60                 Sở GD&ĐT Cà Mau           Cà Mau\n",
       "60           61              Sở GD&ĐT Điện Biên        Điện Biên\n",
       "61           62               Sở GD&ĐT Đắk Nông         Đắk Nông\n",
       "62           63              Sở GD&ĐT Hậu Giang        Hậu Giang\n",
       "63           64  Cục Nhà trường - Bộ Quốc phòng    Bộ Quốc phòng\n",
       "\n",
       "[64 rows x 3 columns]"
      ]
     },
     "execution_count": 15,
     "metadata": {},
     "output_type": "execute_result"
    }
   ],
   "source": [
    "df_province"
   ]
  },
  {
   "cell_type": "markdown",
   "id": "c902c35a",
   "metadata": {},
   "source": [
    "#### 4.2.2. Đổi tên cột 'tên tỉnh' thành 'province'"
   ]
  },
  {
   "cell_type": "code",
   "execution_count": 16,
   "id": "cbffdd0e",
   "metadata": {},
   "outputs": [],
   "source": [
    "#df_province['province'] = df_province['Tên Tỉnh'].rename('province')\n",
    "df_province = df_province.rename(columns={'Tên Tỉnh': 'province'})"
   ]
  },
  {
   "cell_type": "markdown",
   "id": "31d8b9e3",
   "metadata": {},
   "source": [
    "#### **4.3. Xử lý năm 2022**"
   ]
  },
  {
   "cell_type": "markdown",
   "id": "35036ce9",
   "metadata": {},
   "source": [
    "##### 4.3.1. Tạo cột 'ma_ngoai_ngu'"
   ]
  },
  {
   "cell_type": "code",
   "execution_count": 17,
   "id": "5b12b723",
   "metadata": {},
   "outputs": [],
   "source": [
    "df_score_22['ma_ngoai_ngu'] = None"
   ]
  },
  {
   "cell_type": "markdown",
   "id": "10900cc9",
   "metadata": {},
   "source": [
    "##### 4.3.2. Tạo cột 'year', 'code'"
   ]
  },
  {
   "cell_type": "code",
   "execution_count": 18,
   "id": "7c3178b8",
   "metadata": {},
   "outputs": [],
   "source": [
    "df_score_22['year'] = 2022\n",
    "df_score_22['code'] = None"
   ]
  },
  {
   "cell_type": "markdown",
   "id": "1b0ae0f8",
   "metadata": {},
   "source": [
    "#### 4.3.3. Tạo cột 'code' bằng cách tách hai phần tử đầu cột 'sbd'"
   ]
  },
  {
   "cell_type": "code",
   "execution_count": 19,
   "id": "44ff6864",
   "metadata": {},
   "outputs": [],
   "source": [
    "df_score_22['code'] = df_score_22['sbd'].astype(str).str[:2]"
   ]
  },
  {
   "cell_type": "markdown",
   "id": "f311c5bf",
   "metadata": {},
   "source": [
    "#### 4.3.4. Chuyển đổi kiểu dữ liệu cột 'code' sang int"
   ]
  },
  {
   "cell_type": "code",
   "execution_count": 20,
   "id": "0153f3c1",
   "metadata": {},
   "outputs": [],
   "source": [
    "df_score_22['code'] = df_score_22['code'].astype(int)"
   ]
  },
  {
   "cell_type": "code",
   "execution_count": 21,
   "id": "e5d14eee",
   "metadata": {},
   "outputs": [
    {
     "name": "stdout",
     "output_type": "stream",
     "text": [
      "<class 'pandas.core.frame.DataFrame'>\n",
      "RangeIndex: 995441 entries, 0 to 995440\n",
      "Data columns (total 13 columns):\n",
      " #   Column        Non-Null Count   Dtype  \n",
      "---  ------        --------------   -----  \n",
      " 0   sbd           995441 non-null  int64  \n",
      " 1   toan          982726 non-null  float64\n",
      " 2   ngu_van       981407 non-null  float64\n",
      " 3   ngoai_ngu     870609 non-null  float64\n",
      " 4   vat_li        325523 non-null  float64\n",
      " 5   hoa_hoc       327367 non-null  float64\n",
      " 6   sinh_hoc      322198 non-null  float64\n",
      " 7   lich_su       659662 non-null  float64\n",
      " 8   dia_li        657421 non-null  float64\n",
      " 9   gdcd          554343 non-null  float64\n",
      " 10  ma_ngoai_ngu  0 non-null       object \n",
      " 11  year          995441 non-null  int64  \n",
      " 12  code          995441 non-null  int64  \n",
      "dtypes: float64(9), int64(3), object(1)\n",
      "memory usage: 98.7+ MB\n"
     ]
    }
   ],
   "source": [
    "df_score_22.info()\n"
   ]
  },
  {
   "cell_type": "markdown",
   "id": "01a6e99c",
   "metadata": {},
   "source": [
    "#### 4.3.5. Join hai bảng lại"
   ]
  },
  {
   "cell_type": "code",
   "execution_count": 22,
   "id": "09b9dd1b",
   "metadata": {},
   "outputs": [],
   "source": [
    "df_score_22 = pd.merge(df_score_22, df_province, left_on='code', right_on='Mã hội đồng', how='left')"
   ]
  },
  {
   "cell_type": "code",
   "execution_count": 23,
   "id": "2aa4a21c",
   "metadata": {},
   "outputs": [
    {
     "name": "stdout",
     "output_type": "stream",
     "text": [
      "<class 'pandas.core.frame.DataFrame'>\n",
      "RangeIndex: 995441 entries, 0 to 995440\n",
      "Data columns (total 16 columns):\n",
      " #   Column            Non-Null Count   Dtype  \n",
      "---  ------            --------------   -----  \n",
      " 0   sbd               995441 non-null  int64  \n",
      " 1   toan              982726 non-null  float64\n",
      " 2   ngu_van           981407 non-null  float64\n",
      " 3   ngoai_ngu         870609 non-null  float64\n",
      " 4   vat_li            325523 non-null  float64\n",
      " 5   hoa_hoc           327367 non-null  float64\n",
      " 6   sinh_hoc          322198 non-null  float64\n",
      " 7   lich_su           659662 non-null  float64\n",
      " 8   dia_li            657421 non-null  float64\n",
      " 9   gdcd              554343 non-null  float64\n",
      " 10  ma_ngoai_ngu      0 non-null       object \n",
      " 11  year              995441 non-null  int64  \n",
      " 12  code              995441 non-null  int64  \n",
      " 13  Mã hội đồng       976150 non-null  float64\n",
      " 14  Tên hội đồng thi  976150 non-null  object \n",
      " 15  province          976150 non-null  object \n",
      "dtypes: float64(10), int64(3), object(3)\n",
      "memory usage: 121.5+ MB\n"
     ]
    }
   ],
   "source": [
    "df_score_22.info()"
   ]
  },
  {
   "cell_type": "markdown",
   "id": "229504f5",
   "metadata": {},
   "source": [
    "#### 4.3.6. Xóa cột không cần thiết sau khi Join"
   ]
  },
  {
   "cell_type": "code",
   "execution_count": 24,
   "id": "667831f4",
   "metadata": {},
   "outputs": [],
   "source": [
    "df_score_22 = df_score_22.drop(columns= ['Mã hội đồng', 'Tên hội đồng thi'])"
   ]
  },
  {
   "cell_type": "markdown",
   "id": "a9fb7627",
   "metadata": {},
   "source": [
    "#### 4.3.7. Chuyển đổi thứ tự cột giống năm 2020_2021"
   ]
  },
  {
   "cell_type": "code",
   "execution_count": 25,
   "id": "2c355109",
   "metadata": {},
   "outputs": [],
   "source": [
    "df_score_22 = df_score_22[df_score_20_21.columns]"
   ]
  },
  {
   "cell_type": "markdown",
   "id": "a6c2a3cd",
   "metadata": {},
   "source": [
    "#### **4.4. Xử lý năm 2023**"
   ]
  },
  {
   "cell_type": "markdown",
   "id": "46effc13",
   "metadata": {},
   "source": [
    "#### 4.4.1. Tạo cột 'code' "
   ]
  },
  {
   "cell_type": "code",
   "execution_count": 26,
   "id": "fe22de2d",
   "metadata": {},
   "outputs": [],
   "source": [
    "df_score_23['code'] = None\n",
    "df_score_23['year'] = 2023"
   ]
  },
  {
   "cell_type": "markdown",
   "id": "c95cdb1c",
   "metadata": {},
   "source": [
    "#### 4.4.2. Tách 'code' bằng 'sbd'"
   ]
  },
  {
   "cell_type": "code",
   "execution_count": 27,
   "id": "486e58f0",
   "metadata": {},
   "outputs": [],
   "source": [
    "df_score_23['code'] = df_score_23['sbd'].astype(str).str[0:2]"
   ]
  },
  {
   "cell_type": "markdown",
   "id": "778d0647",
   "metadata": {},
   "source": [
    "#### 4.4.3. Chuyển đổi kiểu dữ liệu 'code' thành int\n"
   ]
  },
  {
   "cell_type": "code",
   "execution_count": 28,
   "id": "3006c3ad",
   "metadata": {},
   "outputs": [],
   "source": [
    "df_score_23['code'] = df_score_23['code'].astype(int)"
   ]
  },
  {
   "cell_type": "markdown",
   "id": "359b2479",
   "metadata": {},
   "source": [
    "#### 4.4.4. Join với df_province\n"
   ]
  },
  {
   "cell_type": "code",
   "execution_count": 29,
   "id": "ff943473",
   "metadata": {},
   "outputs": [],
   "source": [
    "df_score_23 = pd.merge(df_score_23, df_province, left_on= 'code', right_on= 'Mã hội đồng', how= 'left')"
   ]
  },
  {
   "cell_type": "markdown",
   "id": "d79dc5fe",
   "metadata": {},
   "source": [
    "#### 4.4.5. Xóa cột không cần thiết sau khi Join "
   ]
  },
  {
   "cell_type": "code",
   "execution_count": 30,
   "id": "cea893ee",
   "metadata": {},
   "outputs": [],
   "source": [
    "df_score_23 = df_score_23.drop(columns= ['Mã hội đồng', 'Tên hội đồng thi'])"
   ]
  },
  {
   "cell_type": "markdown",
   "id": "776217bf",
   "metadata": {},
   "source": [
    "#### 4.4.6. Chuyển đổi thứ tự cột giống năm 2020_2021"
   ]
  },
  {
   "cell_type": "code",
   "execution_count": 31,
   "id": "f26f0c20",
   "metadata": {},
   "outputs": [],
   "source": [
    "df_score_23 = df_score_23[df_score_20_21.columns]"
   ]
  },
  {
   "cell_type": "markdown",
   "id": "fabeeaf4",
   "metadata": {},
   "source": [
    "### **4.5. Xử lý năm 2024**"
   ]
  },
  {
   "cell_type": "markdown",
   "id": "a5d6d002",
   "metadata": {},
   "source": [
    "#### 4.5.1. Tạo cột 'code'"
   ]
  },
  {
   "cell_type": "code",
   "execution_count": 32,
   "id": "1fb3cd4c",
   "metadata": {},
   "outputs": [],
   "source": [
    "df_score_24['code'] = None\n",
    "df_score_24['year'] = 2024"
   ]
  },
  {
   "cell_type": "markdown",
   "id": "565f7f7c",
   "metadata": {},
   "source": [
    "#### 4.5.2. Tách code bằng sbd"
   ]
  },
  {
   "cell_type": "code",
   "execution_count": 33,
   "id": "fb02d73f",
   "metadata": {},
   "outputs": [],
   "source": [
    "df_score_24['code'] = df_score_24['sbd'].astype(str).str[0:2]"
   ]
  },
  {
   "cell_type": "markdown",
   "id": "024b260a",
   "metadata": {},
   "source": [
    "#### 4.5.3. Chuyển đổi kiểu dữ liệu 'code' thành int"
   ]
  },
  {
   "cell_type": "code",
   "execution_count": 34,
   "id": "e67c57d2",
   "metadata": {},
   "outputs": [],
   "source": [
    "df_score_24['code'] = df_score_24['code'].astype(int)"
   ]
  },
  {
   "cell_type": "markdown",
   "id": "3ce8d4d5",
   "metadata": {},
   "source": [
    "#### 4.5.4. Join với bảng df_province"
   ]
  },
  {
   "cell_type": "code",
   "execution_count": 35,
   "id": "37cf8a6c",
   "metadata": {},
   "outputs": [],
   "source": [
    "df_score_24 = pd.merge(df_score_24, df_province, left_on= 'code', right_on= 'Mã hội đồng', how= 'left')"
   ]
  },
  {
   "cell_type": "markdown",
   "id": "96effad9",
   "metadata": {},
   "source": [
    "#### 4.5.5. Xóa cột không cần thiết sau khi Join"
   ]
  },
  {
   "cell_type": "code",
   "execution_count": 36,
   "id": "7a8f9c17",
   "metadata": {},
   "outputs": [],
   "source": [
    "df_score_24 = df_score_24.drop(columns= ['Mã hội đồng','Tên hội đồng thi'])"
   ]
  },
  {
   "cell_type": "markdown",
   "id": "6dd72f16",
   "metadata": {},
   "source": [
    "#### 4.5.6. Chuyển đổi thứ tự cột giống năm 2020_2021"
   ]
  },
  {
   "cell_type": "code",
   "execution_count": 37,
   "id": "abb06e3f",
   "metadata": {},
   "outputs": [],
   "source": [
    "df_score_24 = df_score_24[df_score_20_21.columns]"
   ]
  },
  {
   "cell_type": "markdown",
   "id": "1c19687e",
   "metadata": {},
   "source": [
    "## **4.6. Nối các bảng dữ liệu**"
   ]
  },
  {
   "cell_type": "code",
   "execution_count": 38,
   "id": "3420213e",
   "metadata": {},
   "outputs": [
    {
     "name": "stdout",
     "output_type": "stream",
     "text": [
      "<class 'pandas.core.frame.DataFrame'>\n",
      "RangeIndex: 4936983 entries, 0 to 4936982\n",
      "Data columns (total 14 columns):\n",
      " #   Column        Dtype  \n",
      "---  ------        -----  \n",
      " 0   sbd           int64  \n",
      " 1   toan          float64\n",
      " 2   ngu_van       float64\n",
      " 3   vat_li        float64\n",
      " 4   hoa_hoc       float64\n",
      " 5   sinh_hoc      float64\n",
      " 6   lich_su       float64\n",
      " 7   dia_li        float64\n",
      " 8   gdcd          float64\n",
      " 9   ngoai_ngu     float64\n",
      " 10  year          int64  \n",
      " 11  code          int64  \n",
      " 12  province      object \n",
      " 13  ma_ngoai_ngu  object \n",
      "dtypes: float64(9), int64(3), object(2)\n",
      "memory usage: 527.3+ MB\n"
     ]
    }
   ],
   "source": [
    "df_score = pd.concat([df_score_20_21, df_score_22, df_score_23, df_score_24], axis= 0, join= 'outer', ignore_index= True)\n",
    "df_score.info()"
   ]
  },
  {
   "cell_type": "code",
   "execution_count": 40,
   "id": "14fd9ab0",
   "metadata": {},
   "outputs": [],
   "source": [
    "df_score.to_csv('danh_sach_diem_thi_thpt_2021_2024',index = False,encoding= 'utf-8-sig')"
   ]
  },
  {
   "cell_type": "markdown",
   "id": "22642f2b",
   "metadata": {},
   "source": [
    "# **5. Overview**"
   ]
  },
  {
   "cell_type": "code",
   "execution_count": 41,
   "id": "fae3788d",
   "metadata": {},
   "outputs": [
    {
     "data": {
      "text/plain": [
       "array([2020, 2021, 2022, 2023, 2024])"
      ]
     },
     "execution_count": 41,
     "metadata": {},
     "output_type": "execute_result"
    }
   ],
   "source": [
    "df_score['year'].unique()"
   ]
  },
  {
   "cell_type": "markdown",
   "id": "a8d0cd13",
   "metadata": {},
   "source": [
    "số lượng thí sinh thi mỗi năm"
   ]
  },
  {
   "cell_type": "code",
   "execution_count": 42,
   "id": "7c44dadf",
   "metadata": {},
   "outputs": [
    {
     "data": {
      "text/plain": [
       "year\n",
       "2020     870486\n",
       "2021     987391\n",
       "2022     995441\n",
       "2023    1022060\n",
       "2024    1061605\n",
       "Name: count, dtype: int64"
      ]
     },
     "execution_count": 42,
     "metadata": {},
     "output_type": "execute_result"
    }
   ],
   "source": [
    "student_per_year = df_score['year'].value_counts().sort_index()\n",
    "student_per_year"
   ]
  },
  {
   "cell_type": "markdown",
   "id": "d0998614",
   "metadata": {},
   "source": [
    "tỷ lệ tăng trưởng"
   ]
  },
  {
   "cell_type": "code",
   "execution_count": 43,
   "id": "4b738e92",
   "metadata": {},
   "outputs": [
    {
     "data": {
      "text/plain": [
       "year\n",
       "2020          NaN\n",
       "2021    13.429854\n",
       "2022     0.815280\n",
       "2023     2.674091\n",
       "2024     3.869147\n",
       "Name: count, dtype: float64"
      ]
     },
     "execution_count": 43,
     "metadata": {},
     "output_type": "execute_result"
    }
   ],
   "source": [
    "growth_rate = student_per_year.pct_change()*100\n",
    "growth_rate"
   ]
  },
  {
   "cell_type": "code",
   "execution_count": null,
   "id": "ef198241",
   "metadata": {},
   "outputs": [],
   "source": [
    "# tạo biểu đồ để hiển thị kết quả \n",
    "student_growth_df = pd.DataFrame({\n",
    "    'Số lượng thí sinh': student_per_year,\n",
    "    'Tỷ lệ tăng trưởng (%)': growth_rate \n",
    "}).reset_index().rename(columns={'index':'year'})"
   ]
  },
  {
   "cell_type": "code",
   "execution_count": 45,
   "id": "82ace852",
   "metadata": {},
   "outputs": [
    {
     "data": {
      "text/html": [
       "<div>\n",
       "<style scoped>\n",
       "    .dataframe tbody tr th:only-of-type {\n",
       "        vertical-align: middle;\n",
       "    }\n",
       "\n",
       "    .dataframe tbody tr th {\n",
       "        vertical-align: top;\n",
       "    }\n",
       "\n",
       "    .dataframe thead th {\n",
       "        text-align: right;\n",
       "    }\n",
       "</style>\n",
       "<table border=\"1\" class=\"dataframe\">\n",
       "  <thead>\n",
       "    <tr style=\"text-align: right;\">\n",
       "      <th></th>\n",
       "      <th>year</th>\n",
       "      <th>Số lượng thí sinh</th>\n",
       "      <th>Tỷ lệ tăng trưởng (%)</th>\n",
       "    </tr>\n",
       "  </thead>\n",
       "  <tbody>\n",
       "    <tr>\n",
       "      <th>0</th>\n",
       "      <td>2020</td>\n",
       "      <td>870486</td>\n",
       "      <td>NaN</td>\n",
       "    </tr>\n",
       "    <tr>\n",
       "      <th>1</th>\n",
       "      <td>2021</td>\n",
       "      <td>987391</td>\n",
       "      <td>13.429854</td>\n",
       "    </tr>\n",
       "    <tr>\n",
       "      <th>2</th>\n",
       "      <td>2022</td>\n",
       "      <td>995441</td>\n",
       "      <td>0.815280</td>\n",
       "    </tr>\n",
       "    <tr>\n",
       "      <th>3</th>\n",
       "      <td>2023</td>\n",
       "      <td>1022060</td>\n",
       "      <td>2.674091</td>\n",
       "    </tr>\n",
       "    <tr>\n",
       "      <th>4</th>\n",
       "      <td>2024</td>\n",
       "      <td>1061605</td>\n",
       "      <td>3.869147</td>\n",
       "    </tr>\n",
       "  </tbody>\n",
       "</table>\n",
       "</div>"
      ],
      "text/plain": [
       "   year  Số lượng thí sinh  Tỷ lệ tăng trưởng (%)\n",
       "0  2020             870486                    NaN\n",
       "1  2021             987391              13.429854\n",
       "2  2022             995441               0.815280\n",
       "3  2023            1022060               2.674091\n",
       "4  2024            1061605               3.869147"
      ]
     },
     "execution_count": 45,
     "metadata": {},
     "output_type": "execute_result"
    }
   ],
   "source": [
    "student_growth_df"
   ]
  },
  {
   "cell_type": "code",
   "execution_count": 46,
   "id": "108b0be4",
   "metadata": {},
   "outputs": [
    {
     "data": {
      "image/png": "[encoded data removed]",
      "text/plain": [
       "<Figure size 600x600 with 2 Axes>"
      ]
     },
     "metadata": {},
     "output_type": "display_data"
    }
   ],
   "source": [
    "# vẽ biểu đồ\n",
    "fig, ax = plt.subplots(2, 1, figsize=(6, 6))\n",
    "# Vẽ biểu đồ cột số lượng thí sinh\n",
    "ax[0].bar(\n",
    "    student_growth_df['year'],\n",
    "    student_growth_df['Số lượng thí sinh'],\n",
    "    color='cornflowerblue'\n",
    ")\n",
    "# Gắn nhãn và tiêu đề\n",
    "ax[0].set_xlabel('year')\n",
    "ax[0].set_ylabel('Số lượng thí sinh')\n",
    "ax[0].set_title('Số lượng thí sinh qua các năm')\n",
    "ax[0].grid(False)\n",
    "\n",
    "#biểu đồ sự tăng trưởng\n",
    "ax[1].bar(\n",
    "    student_growth_df['year'],\n",
    "    student_growth_df['Tỷ lệ tăng trưởng (%)'],\n",
    "    color='orange'\n",
    ")\n",
    "ax[1].set_xlabel('year')\n",
    "ax[1].set_ylabel('Tỷ lệ tăng trưởng (%)')\n",
    "ax[1].set_title('Tỷ lệ tăng trưởng qua các năm')\n",
    "ax[1].grid(False)\n",
    "\n",
    "plt.tight_layout()\n",
    "plt.show()"
   ]
  }
 ],
 "metadata": {
  "kernelspec": {
   "display_name": "Python 3",
   "language": "python",
   "name": "python3"
  },
  "language_info": {
   "codemirror_mode": {
    "name": "ipython",
    "version": 3
   },
   "file_extension": ".py",
   "mimetype": "text/x-python",
   "name": "python",
   "nbconvert_exporter": "python",
   "pygments_lexer": "ipython3",
   "version": "3.11.9"
  }
 },
 "nbformat": 4,
 "nbformat_minor": 5
}
