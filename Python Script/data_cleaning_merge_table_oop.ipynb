{
 "cells": [
  {
   "cell_type": "markdown",
   "id": "48f99189",
   "metadata": {},
   "source": [
    "## Merge Table"
   ]
  },
  {
   "cell_type": "code",
   "execution_count": 1,
   "id": "a474aebd",
   "metadata": {},
   "outputs": [],
   "source": [
    "import pandas as pd\n",
    "def merge_table(self):\n",
    "        df_danh_sạch_hoi_dong_thi = pd.read_excel(r\"C:\\FPT Polytechnic\\Project Tự Làm\\Điểm thi thpt 2020 - 2024\\danh_sach_hoi_dong_thi.xlsx\")\n",
    "        if not self.dataframes:\n",
    "            print(\"No data to process\")\n",
    "            return\n",
    "        \n",
    "        for i, (path, df) in enumerate(self.dataframes):\n",
    "            if 'province' not in df.columns:\n",
    "                 df_merged = pd.merge(df, df_danh_sạch_hoi_dong_thi, left_on='code', right_on='Mã hội đồng', how='left')\n",
    "                 self.dataframes[i] = (path, df_merged)"
   ]
  }
 ],
 "metadata": {
  "kernelspec": {
   "display_name": "Python 3",
   "language": "python",
   "name": "python3"
  },
  "language_info": {
   "codemirror_mode": {
    "name": "ipython",
    "version": 3
   },
   "file_extension": ".py",
   "mimetype": "text/x-python",
   "name": "python",
   "nbconvert_exporter": "python",
   "pygments_lexer": "ipython3",
   "version": "3.11.9"
  }
 },
 "nbformat": 4,
 "nbformat_minor": 5
}
