{
 "cells": [
  {
   "cell_type": "markdown",
   "id": "0ed01e5f",
   "metadata": {},
   "source": [
    "## Concat Table"
   ]
  },
  {
   "cell_type": "code",
   "execution_count": 1,
   "id": "cf698aa2",
   "metadata": {},
   "outputs": [],
   "source": [
    "def concat_all(self, save_path=\"C:\\FPT Polytechnic\\Graduation_Project\\Data\\Processed\\processed.csv\"):\n",
    "        if not self.dataframes:\n",
    "            print(\"No data available to concatenate.\")\n",
    "            return None\n",
    "\n",
    "        try:\n",
    "            all_dfs = [df for _, df in self.dataframes]\n",
    "            df_concat = pd.concat(all_dfs, ignore_index=True)\n",
    "            df_concat.to_csv(save_path, index=False, encoding='utf-8-sig')\n",
    "            print(f\"Successfully concatenated {len(all_dfs)} DataFrames.\")\n",
    "            print(f\"File saved to: {save_path}\")\n",
    "            return df_concat\n",
    "        except Exception as e:\n",
    "            print(f\"Error during concatenation: {e}\")\n",
    "            return None"
   ]
  }
 ],
 "metadata": {
  "kernelspec": {
   "display_name": "Python 3",
   "language": "python",
   "name": "python3"
  },
  "language_info": {
   "codemirror_mode": {
    "name": "ipython",
    "version": 3
   },
   "file_extension": ".py",
   "mimetype": "text/x-python",
   "name": "python",
   "nbconvert_exporter": "python",
   "pygments_lexer": "ipython3",
   "version": "3.11.9"
  }
 },
 "nbformat": 4,
 "nbformat_minor": 5
}
