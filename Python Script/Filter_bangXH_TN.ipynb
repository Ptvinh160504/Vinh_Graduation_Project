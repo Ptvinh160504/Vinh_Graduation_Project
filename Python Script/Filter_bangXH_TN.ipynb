{
 "cells": [
  {
   "cell_type": "code",
   "execution_count": 9,
   "metadata": {},
   "outputs": [
    {
     "name": "stderr",
     "output_type": "stream",
     "text": [
      "<>:3: SyntaxWarning: invalid escape sequence '\\F'\n",
      "<>:25: SyntaxWarning: invalid escape sequence '\\F'\n",
      "<>:26: SyntaxWarning: invalid escape sequence '\\F'\n",
      "<>:29: SyntaxWarning: invalid escape sequence '\\F'\n",
      "<>:30: SyntaxWarning: invalid escape sequence '\\F'\n",
      "<>:3: SyntaxWarning: invalid escape sequence '\\F'\n",
      "<>:25: SyntaxWarning: invalid escape sequence '\\F'\n",
      "<>:26: SyntaxWarning: invalid escape sequence '\\F'\n",
      "<>:29: SyntaxWarning: invalid escape sequence '\\F'\n",
      "<>:30: SyntaxWarning: invalid escape sequence '\\F'\n",
      "C:\\Users\\ASUS\\AppData\\Local\\Temp\\ipykernel_9360\\4124183080.py:3: SyntaxWarning: invalid escape sequence '\\F'\n",
      "  df = pd.read_csv(\"D:\\FPTPolytechnic\\BAO_CAO_TN\\Vinh_Graduation_Project/Data/Raw/processed.csv\")\n",
      "C:\\Users\\ASUS\\AppData\\Local\\Temp\\ipykernel_9360\\4124183080.py:25: SyntaxWarning: invalid escape sequence '\\F'\n",
      "  df_natural_final.to_csv(\"D:\\FPTPolytechnic\\BAO_CAO_TN\\Vinh_Graduation_Project/Data/Processed/thi_sinh_tu_nhien.csv\", index=False)\n",
      "C:\\Users\\ASUS\\AppData\\Local\\Temp\\ipykernel_9360\\4124183080.py:26: SyntaxWarning: invalid escape sequence '\\F'\n",
      "  df_social_final.to_csv(\"D:\\FPTPolytechnic\\BAO_CAO_TN\\Vinh_Graduation_Project/Data/Processed/thi_sinh_xa_hoi.csv\", index=False)\n",
      "C:\\Users\\ASUS\\AppData\\Local\\Temp\\ipykernel_9360\\4124183080.py:29: SyntaxWarning: invalid escape sequence '\\F'\n",
      "  print(\"D:\\FPTPolytechnic\\BAO_CAO_TN\\Vinh_Graduation_Project/thi_sinh_tu_nhien.csv\")\n",
      "C:\\Users\\ASUS\\AppData\\Local\\Temp\\ipykernel_9360\\4124183080.py:30: SyntaxWarning: invalid escape sequence '\\F'\n",
      "  print(\"D:\\FPTPolytechnic\\BAO_CAO_TN\\Vinh_Graduation_Project/thi_sinh_xa_hoi.csv\")\n"
     ]
    },
    {
     "name": "stdout",
     "output_type": "stream",
     "text": [
      "✅ Đã tạo thành công 2 file CSV:\n",
      "D:\\FPTPolytechnic\\BAO_CAO_TN\\Vinh_Graduation_Project/thi_sinh_tu_nhien.csv\n",
      "D:\\FPTPolytechnic\\BAO_CAO_TN\\Vinh_Graduation_Project/thi_sinh_xa_hoi.csv\n"
     ]
    }
   ],
   "source": [
    "import pandas as pd\n",
    "# ===== Đọc dữ liệu từ Raw =====\n",
    "df = pd.read_csv(\"Downloads\\processed.csv\")\n",
    "\n",
    "# ===== Phân loại theo điều kiện =====\n",
    "df_natural = df[\n",
    "    df[['vat_li', 'hoa_hoc', 'sinh_hoc']].notna().any(axis=1) &\n",
    "    df[['gdcd', 'lich_su', 'dia_li']].isna().all(axis=1)\n",
    "]\n",
    "\n",
    "df_social = df[\n",
    "    df[['vat_li', 'hoa_hoc', 'sinh_hoc']].isna().all(axis=1) &\n",
    "    df[['gdcd', 'lich_su', 'dia_li']].notna().any(axis=1)\n",
    "]\n",
    "\n",
    "# ===== Cột cần thiết =====\n",
    "cols_mandatory = ['sbd', 'year', 'toan', 'ngu_van', 'ngoai_ngu']\n",
    "natural_cols = cols_mandatory + ['vat_li', 'hoa_hoc', 'sinh_hoc']\n",
    "social_cols = cols_mandatory + ['gdcd', 'lich_su', 'dia_li']\n",
    "\n",
    "df_natural_final = df_natural[natural_cols]\n",
    "df_social_final = df_social[social_cols]\n",
    "\n",
    "# ===== Xuất ra CSV trong thư mục Processed =====\n",
    "df_natural_final.to_csv(\"D:\\FPTPolytechnic\\BAO_CAO_TN\\Vinh_Graduation_Project/Data/Processed/thi_sinh_tu_nhien.csv\", index=False)\n",
    "df_social_final.to_csv(\"D:\\FPTPolytechnic\\BAO_CAO_TN\\Vinh_Graduation_Project/Data/Processed/thi_sinh_xa_hoi.csv\", index=False)\n",
    "\n",
    "print(\"✅ Đã tạo thành công 2 file CSV:\")\n",
    "print(\"D:\\FPTPolytechnic\\BAO_CAO_TN\\Vinh_Graduation_Project/thi_sinh_tu_nhien.csv\")\n",
    "print(\"D:\\FPTPolytechnic\\BAO_CAO_TN\\Vinh_Graduation_Project/thi_sinh_xa_hoi.csv\")\n"
   ]
  }
 ],
 "metadata": {
  "kernelspec": {
   "display_name": "Python 3",
   "language": "python",
   "name": "python3"
  },
  "language_info": {
   "codemirror_mode": {
    "name": "ipython",
    "version": 3
   },
   "file_extension": ".py",
   "mimetype": "text/x-python",
   "name": "python",
   "nbconvert_exporter": "python",
   "pygments_lexer": "ipython3",
   "version": "3.13.0b3"
  }
 },
 "nbformat": 4,
 "nbformat_minor": 2
}
