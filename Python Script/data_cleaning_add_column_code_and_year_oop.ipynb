{
 "cells": [
  {
   "cell_type": "code",
   "execution_count": 1,
   "id": "b3a90197",
   "metadata": {},
   "outputs": [],
   "source": [
    "def add_column_code_year(self):\n",
    "    if not self.dataframes:\n",
    "        print(\"No data to process.\")\n",
    "        return\n",
    "\n",
    "    for i, (path, df) in enumerate(self.dataframes):\n",
    "        if 'code' not in df.columns:\n",
    "            if 'sbd' in df.columns:\n",
    "                try:\n",
    "                    df['code'] = df['sbd'].astype(str).str[:2]\n",
    "                    df['code'] = df['code'].astype(int)\n",
    "                    print(f\"Add column 'code' to file: {path}\")\n",
    "                except Exception as e:\n",
    "                    print(f\"Processing error 'code' in file {path}: {e}\")\n",
    "            else:\n",
    "                print(f\"'sbd' column not found in file: {path}\")\n",
    "        else:\n",
    "            print(f\"'code' already exists in file: {path}\")\n",
    "\n",
    "\n",
    "        if 'year' not in df.columns:\n",
    "            df['year'] = 2022 + i - 1\n",
    "        self.dataframes[i] = (path, df)"
   ]
  }
 ],
 "metadata": {
  "kernelspec": {
   "display_name": "Python 3",
   "language": "python",
   "name": "python3"
  },
  "language_info": {
   "codemirror_mode": {
    "name": "ipython",
    "version": 3
   },
   "file_extension": ".py",
   "mimetype": "text/x-python",
   "name": "python",
   "nbconvert_exporter": "python",
   "pygments_lexer": "ipython3",
   "version": "3.11.9"
  }
 },
 "nbformat": 4,
 "nbformat_minor": 5
}
