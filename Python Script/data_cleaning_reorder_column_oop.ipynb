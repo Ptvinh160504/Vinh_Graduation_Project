{
 "cells": [
  {
   "cell_type": "markdown",
   "id": "96a84f18",
   "metadata": {},
   "source": [
    "## Reorder column"
   ]
  },
  {
   "cell_type": "code",
   "execution_count": 8,
   "id": "24af504f",
   "metadata": {},
   "outputs": [],
   "source": [
    "def reorder_all_columns(self):\n",
    "            if not self.dataframes:\n",
    "                print(\"Chưa có dữ liệu để xử lý.\")\n",
    "                return\n",
    "\n",
    "            desired_order = [\n",
    "                'sbd', 'toan', 'ngu_van', 'vat_li', 'hoa_hoc', 'sinh_hoc',\n",
    "                'lich_su', 'dia_li', 'gdcd', 'ngoai_ngu',\n",
    "                'year', 'code', 'province'\n",
    "            ]\n",
    "\n",
    "            for i, (path, df) in enumerate(self.dataframes):\n",
    "                existing = [col for col in desired_order if col in df.columns]\n",
    "                remaining = [col for col in df.columns if col not in desired_order]\n",
    "                new_order = existing + remaining\n",
    "                df = df[new_order]\n",
    "                self.dataframes[i] = (path, df)\n",
    "                print(f\"Successfully reordered columns for the file: {path}\")"
   ]
  }
 ],
 "metadata": {
  "kernelspec": {
   "display_name": "Python 3",
   "language": "python",
   "name": "python3"
  },
  "language_info": {
   "codemirror_mode": {
    "name": "ipython",
    "version": 3
   },
   "file_extension": ".py",
   "mimetype": "text/x-python",
   "name": "python",
   "nbconvert_exporter": "python",
   "pygments_lexer": "ipython3",
   "version": "3.11.9"
  }
 },
 "nbformat": 4,
 "nbformat_minor": 5
}
