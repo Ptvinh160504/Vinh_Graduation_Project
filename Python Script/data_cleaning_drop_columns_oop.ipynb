{
 "cells": [
  {
   "cell_type": "markdown",
   "id": "06683bfc",
   "metadata": {},
   "source": [
    "### Drop Columns Specific"
   ]
  },
  {
   "cell_type": "code",
   "execution_count": 1,
   "id": "430ddd2a",
   "metadata": {},
   "outputs": [],
   "source": [
    "def drop_specific_columns(self, columns_to_drop_by_file):\n",
    "    if not self.dataframes:\n",
    "        print(\"No data to process.\")\n",
    "        return\n",
    "    \n",
    "    for i, (path, df) in enumerate(self.dataframes):\n",
    "        for keyword, columns in columns_to_drop_by_file.items():\n",
    "            if keyword in path:\n",
    "                existing_cols = [col for col in columns if col in df.columns]\n",
    "                df = df.drop(columns=existing_cols)\n",
    "                self.dataframes[i] = (path, df)\n",
    "                print(f\"\\nDropped columns from file {path}: {existing_cols if existing_cols else 'No matching columns found'}\")\n",
    "                break"
   ]
  }
 ],
 "metadata": {
  "kernelspec": {
   "display_name": "Python 3",
   "language": "python",
   "name": "python3"
  },
  "language_info": {
   "codemirror_mode": {
    "name": "ipython",
    "version": 3
   },
   "file_extension": ".py",
   "mimetype": "text/x-python",
   "name": "python",
   "nbconvert_exporter": "python",
   "pygments_lexer": "ipython3",
   "version": "3.11.9"
  }
 },
 "nbformat": 4,
 "nbformat_minor": 5
}
