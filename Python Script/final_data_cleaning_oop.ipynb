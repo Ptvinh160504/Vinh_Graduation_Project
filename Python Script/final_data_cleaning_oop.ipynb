{
 "cells": [
  {
   "cell_type": "markdown",
   "id": "2351aa23",
   "metadata": {},
   "source": [
    "### Import Lybrary"
   ]
  },
  {
   "cell_type": "code",
   "execution_count": 79,
   "id": "d38c23c7",
   "metadata": {},
   "outputs": [],
   "source": [
    "import pandas as pd"
   ]
  },
  {
   "cell_type": "code",
   "execution_count": 80,
   "id": "eb217ca4",
   "metadata": {},
   "outputs": [],
   "source": [
    "file_list = [\n",
    "    r'C:\\FPT Polytechnic\\Project Tự Làm\\Điểm thi thpt 2020 - 2024\\diem_thi_2020_2021.csv',\n",
    "    r'C:\\FPT Polytechnic\\Project Tự Làm\\Điểm thi thpt 2020 - 2024\\diem_thi_thpt_2022.csv',\n",
    "    r'C:\\FPT Polytechnic\\Project Tự Làm\\Điểm thi thpt 2020 - 2024\\diem_thi_thpt_2023.csv',\n",
    "    r'C:\\FPT Polytechnic\\Project Tự Làm\\Điểm thi thpt 2020 - 2024\\diem_thi_thpt_2024.csv' \n",
    "]\n",
    "df_danh_sach_hoi_dong_thi= pd.read_excel(r\"C:\\FPT Polytechnic\\Project Tự Làm\\Điểm thi thpt 2020 - 2024\\danh_sach_hoi_dong_thi.xlsx\")\n",
    "\n",
    "class NationalHighSchoolExamScore:\n",
    "    def __init__(self, file_paths,df_danh_sach_hoi_dong_thi):\n",
    "        self.file_paths = file_paths\n",
    "        self.dataframes = []\n",
    "        self.df_danh_sach_hoi_dong_thi = df_danh_sach_hoi_dong_thi\n",
    "\n",
    "    def read_data(self):\n",
    "        for path in self.file_paths:\n",
    "            try:\n",
    "                df = pd.read_csv(path)\n",
    "                self.dataframes.append((path, df))\n",
    "                print(f\"Complete reading the file: {path}\")\n",
    "            except Exception as e:\n",
    "                print(f\"Unable to read file {path}: {e}\")\n",
    "\n",
    "    def check_data(self):\n",
    "        if not self.dataframes:\n",
    "            print(\"No data available\")\n",
    "            return\n",
    "\n",
    "        for (path, df) in self.dataframes:\n",
    "            print(f\"\\nCheck data: {path}\")\n",
    "            print(f\"Row numbers: {df.shape[0]}, Column numbers: {df.shape[1]}\")\n",
    "            print(\"Columns:\", list(df.columns))\n",
    "            print(\"Duplicate Values:\", df.duplicated().sum())\n",
    "            print(\"-\" * 60)\n",
    "\n",
    "    def remove_duplicate(self):\n",
    "        if not self.dataframes:\n",
    "            print(\"No data to process.\")\n",
    "            return\n",
    "\n",
    "        for i, (path, df) in enumerate(self.dataframes):\n",
    "            before = df.shape[0]\n",
    "            df_cleaned = df.drop_duplicates()\n",
    "            after = df_cleaned.shape[0]\n",
    "            self.dataframes[i] = (path, df_cleaned)\n",
    "            print(f\"\\nRemove {before - after} duplicate rows from file: {path}\")\n",
    "            \n",
    "    def drop_specific_columns(self, columns_to_drop_by_file):\n",
    "        if not self.dataframes:\n",
    "            print(\"No data to process.\")\n",
    "            return\n",
    "        \n",
    "        for i, (path, df) in enumerate(self.dataframes):\n",
    "            for keyword, columns in columns_to_drop_by_file.items():\n",
    "                if keyword in path:\n",
    "                    existing_cols = [col for col in columns if col in df.columns]\n",
    "                    df = df.drop(columns=existing_cols)\n",
    "                    self.dataframes[i] = (path, df)\n",
    "                    print(f\"\\nDropped columns from file {path}: {existing_cols if existing_cols else 'No matching columns found'}\")\n",
    "                    break \n",
    "    def rename_columns(self, rename_rules_by_file):\n",
    "        if not self.dataframes:\n",
    "            print(\"No data to process.\")\n",
    "            return\n",
    "\n",
    "        for i, (path, df) in enumerate(self.dataframes):\n",
    "            for keyword, rename_map in rename_rules_by_file.items():\n",
    "                if keyword in path:\n",
    "                    existing_renames = {old: new for old, new in rename_map.items() if old in df.columns}\n",
    "                    df = df.rename(columns=existing_renames)\n",
    "                    self.dataframes[i] = (path, df)\n",
    "                    print(f\"\\nRenamed columns in file {path}: {existing_renames if existing_renames else 'No matching columns to rename'}\")\n",
    "                    break\n",
    "    def add_column_code_year(self):\n",
    "        if not self.dataframes:\n",
    "            print(\"No data to process.\")\n",
    "            return\n",
    "\n",
    "        for i, (path, df) in enumerate(self.dataframes):\n",
    "            if 'code' not in df.columns:\n",
    "                if 'sbd' in df.columns:\n",
    "                    try:\n",
    "                        df['code'] = df['sbd'].astype(str).str[:2]\n",
    "                        df['code'] = df['code'].astype(int)\n",
    "                        print(f\"Add column 'code' to file: {path}\")\n",
    "                    except Exception as e:\n",
    "                        print(f\"Processing error 'code' in file {path}: {e}\")\n",
    "                else:\n",
    "                    print(f\"'sbd' column not found in file: {path}\")\n",
    "            else:\n",
    "                print(f\"'code' already exists in file: {path}\")\n",
    "\n",
    "\n",
    "            if 'year' not in df.columns:\n",
    "                df['year'] = 2022 + i - 1\n",
    "            self.dataframes[i] = (path, df)\n",
    "\n",
    "\n",
    "    def check_data_column_year(self):\n",
    "        if not self.dataframes:\n",
    "            print(\"No data to process\")\n",
    "            return\n",
    "        for path, df in self.dataframes:\n",
    "            print(df[\"year\"].unique())\n",
    "\n",
    "    def merge_table(self):\n",
    "        if not self.dataframes:\n",
    "            print(\"No data to process\")\n",
    "            return\n",
    "        \n",
    "        for i, (path, df) in enumerate(self.dataframes):\n",
    "            if 'province' not in df.columns:\n",
    "                 df_merged = pd.merge(df, self.df_danh_sach_hoi_dong_thi, left_on='code', right_on='Mã hội đồng', how='left')\n",
    "                 self.dataframes[i] = (path, df_merged)\n",
    "\n",
    "    def reorder_all_columns(self):\n",
    "            if not self.dataframes:\n",
    "                print(\"No data to process.\")\n",
    "                return\n",
    "\n",
    "            desired_order = [\n",
    "                'sbd', 'toan', 'ngu_van', 'vat_li', 'hoa_hoc', 'sinh_hoc',\n",
    "                'lich_su', 'dia_li', 'gdcd', 'ngoai_ngu',\n",
    "                'year', 'province'\n",
    "            ]\n",
    "\n",
    "            for i, (path, df) in enumerate(self.dataframes):\n",
    "                existing = [col for col in desired_order if col in df.columns]\n",
    "                remaining = [col for col in df.columns if col not in desired_order]\n",
    "                new_order = existing + remaining\n",
    "                df = df[new_order]\n",
    "                self.dataframes[i] = (path, df)\n",
    "                print(f\"Successfully reordered columns for the file: {path}\")\n",
    "        \n",
    "    def concat_all(self, save_path=\"C:\\FPT Polytechnic\\Graduation_Project\\Data\\Processed\\processed.csv\"):\n",
    "        if not self.dataframes:\n",
    "            print(\"No data available to concatenate.\")\n",
    "            return None\n",
    "\n",
    "        try:\n",
    "            all_dfs = [df for _, df in self.dataframes]\n",
    "            df_concat = pd.concat(all_dfs, ignore_index=True)\n",
    "            df_concat.to_csv(save_path, index=False, encoding='utf-8-sig')\n",
    "            print(f\"Successfully concatenated {len(all_dfs)} DataFrames.\")\n",
    "            print(f\"File saved to: {save_path}\")\n",
    "            return df_concat\n",
    "        except Exception as e:\n",
    "            print(f\"Error during concatenation: {e}\")\n",
    "            return None\n",
    "\n"
   ]
  },
  {
   "cell_type": "code",
   "execution_count": 81,
   "id": "ee4a5e1e",
   "metadata": {},
   "outputs": [],
   "source": [
    "data = NationalHighSchoolExamScore(file_list,df_danh_sach_hoi_dong_thi)"
   ]
  },
  {
   "cell_type": "markdown",
   "id": "e9cfc1a8",
   "metadata": {},
   "source": [
    "#### Read Data CSV"
   ]
  },
  {
   "cell_type": "code",
   "execution_count": 82,
   "id": "a49a4eb7",
   "metadata": {},
   "outputs": [
    {
     "name": "stderr",
     "output_type": "stream",
     "text": [
      "C:\\Users\\Phi Huynh\\AppData\\Local\\Temp\\ipykernel_19888\\3273895158.py:18: DtypeWarning: Columns (1,2,3) have mixed types. Specify dtype option on import or set low_memory=False.\n",
      "  df = pd.read_csv(path)\n"
     ]
    },
    {
     "name": "stdout",
     "output_type": "stream",
     "text": [
      "Complete reading the file: C:\\FPT Polytechnic\\Project Tự Làm\\Điểm thi thpt 2020 - 2024\\diem_thi_2020_2021.csv\n",
      "Complete reading the file: C:\\FPT Polytechnic\\Project Tự Làm\\Điểm thi thpt 2020 - 2024\\diem_thi_thpt_2022.csv\n",
      "Complete reading the file: C:\\FPT Polytechnic\\Project Tự Làm\\Điểm thi thpt 2020 - 2024\\diem_thi_thpt_2023.csv\n",
      "Complete reading the file: C:\\FPT Polytechnic\\Project Tự Làm\\Điểm thi thpt 2020 - 2024\\diem_thi_thpt_2024.csv\n"
     ]
    }
   ],
   "source": [
    "data.read_data()"
   ]
  },
  {
   "cell_type": "markdown",
   "id": "234d6a84",
   "metadata": {},
   "source": [
    "#### Check Information Data"
   ]
  },
  {
   "cell_type": "code",
   "execution_count": 83,
   "id": "c526031c",
   "metadata": {},
   "outputs": [
    {
     "name": "stdout",
     "output_type": "stream",
     "text": [
      "\n",
      "Check data: C:\\FPT Polytechnic\\Project Tự Làm\\Điểm thi thpt 2020 - 2024\\diem_thi_2020_2021.csv\n",
      "Row numbers: 1857877, Column numbers: 16\n",
      "Columns: ['SBD', 'Tên', 'Ngày Sinh', 'Giới tính', 'Toán', 'Văn', 'Lý', 'Hoá', 'Sinh', 'Lịch Sử', 'Địa Lý', 'GDCD', 'Ngoại Ngữ', 'Year', 'code', 'province']\n",
      "Duplicate Values: 4591\n",
      "------------------------------------------------------------\n",
      "\n",
      "Check data: C:\\FPT Polytechnic\\Project Tự Làm\\Điểm thi thpt 2020 - 2024\\diem_thi_thpt_2022.csv\n",
      "Row numbers: 995441, Column numbers: 10\n",
      "Columns: ['sbd', 'toan', 'ngu_van', 'ngoai_ngu', 'vat_li', 'hoa_hoc', 'sinh_hoc', 'lich_su', 'dia_li', 'gdcd']\n",
      "Duplicate Values: 0\n",
      "------------------------------------------------------------\n",
      "\n",
      "Check data: C:\\FPT Polytechnic\\Project Tự Làm\\Điểm thi thpt 2020 - 2024\\diem_thi_thpt_2023.csv\n",
      "Row numbers: 1022060, Column numbers: 11\n",
      "Columns: ['sbd', 'toan', 'ngu_van', 'ngoai_ngu', 'vat_li', 'hoa_hoc', 'sinh_hoc', 'lich_su', 'dia_li', 'gdcd', 'ma_ngoai_ngu']\n",
      "Duplicate Values: 0\n",
      "------------------------------------------------------------\n",
      "\n",
      "Check data: C:\\FPT Polytechnic\\Project Tự Làm\\Điểm thi thpt 2020 - 2024\\diem_thi_thpt_2024.csv\n",
      "Row numbers: 1061605, Column numbers: 11\n",
      "Columns: ['sbd', 'toan', 'ngu_van', 'ngoai_ngu', 'vat_li', 'hoa_hoc', 'sinh_hoc', 'lich_su', 'dia_li', 'gdcd', 'ma_ngoai_ngu']\n",
      "Duplicate Values: 0\n",
      "------------------------------------------------------------\n"
     ]
    }
   ],
   "source": [
    "data.check_data()"
   ]
  },
  {
   "cell_type": "markdown",
   "id": "f6d20120",
   "metadata": {},
   "source": [
    "#### Remove Lines Duplicate"
   ]
  },
  {
   "cell_type": "code",
   "execution_count": 84,
   "id": "4dbeca84",
   "metadata": {},
   "outputs": [
    {
     "name": "stdout",
     "output_type": "stream",
     "text": [
      "\n",
      "Remove 4591 duplicate rows from file: C:\\FPT Polytechnic\\Project Tự Làm\\Điểm thi thpt 2020 - 2024\\diem_thi_2020_2021.csv\n",
      "\n",
      "Remove 0 duplicate rows from file: C:\\FPT Polytechnic\\Project Tự Làm\\Điểm thi thpt 2020 - 2024\\diem_thi_thpt_2022.csv\n",
      "\n",
      "Remove 0 duplicate rows from file: C:\\FPT Polytechnic\\Project Tự Làm\\Điểm thi thpt 2020 - 2024\\diem_thi_thpt_2023.csv\n",
      "\n",
      "Remove 0 duplicate rows from file: C:\\FPT Polytechnic\\Project Tự Làm\\Điểm thi thpt 2020 - 2024\\diem_thi_thpt_2024.csv\n"
     ]
    }
   ],
   "source": [
    "data.remove_duplicate()"
   ]
  },
  {
   "cell_type": "markdown",
   "id": "52309f9a",
   "metadata": {},
   "source": [
    "#### Check Information Data"
   ]
  },
  {
   "cell_type": "code",
   "execution_count": 85,
   "id": "974a9470",
   "metadata": {},
   "outputs": [
    {
     "name": "stdout",
     "output_type": "stream",
     "text": [
      "\n",
      "Check data: C:\\FPT Polytechnic\\Project Tự Làm\\Điểm thi thpt 2020 - 2024\\diem_thi_2020_2021.csv\n",
      "Row numbers: 1853286, Column numbers: 16\n",
      "Columns: ['SBD', 'Tên', 'Ngày Sinh', 'Giới tính', 'Toán', 'Văn', 'Lý', 'Hoá', 'Sinh', 'Lịch Sử', 'Địa Lý', 'GDCD', 'Ngoại Ngữ', 'Year', 'code', 'province']\n",
      "Duplicate Values: 0\n",
      "------------------------------------------------------------\n",
      "\n",
      "Check data: C:\\FPT Polytechnic\\Project Tự Làm\\Điểm thi thpt 2020 - 2024\\diem_thi_thpt_2022.csv\n",
      "Row numbers: 995441, Column numbers: 10\n",
      "Columns: ['sbd', 'toan', 'ngu_van', 'ngoai_ngu', 'vat_li', 'hoa_hoc', 'sinh_hoc', 'lich_su', 'dia_li', 'gdcd']\n",
      "Duplicate Values: 0\n",
      "------------------------------------------------------------\n",
      "\n",
      "Check data: C:\\FPT Polytechnic\\Project Tự Làm\\Điểm thi thpt 2020 - 2024\\diem_thi_thpt_2023.csv\n",
      "Row numbers: 1022060, Column numbers: 11\n",
      "Columns: ['sbd', 'toan', 'ngu_van', 'ngoai_ngu', 'vat_li', 'hoa_hoc', 'sinh_hoc', 'lich_su', 'dia_li', 'gdcd', 'ma_ngoai_ngu']\n",
      "Duplicate Values: 0\n",
      "------------------------------------------------------------\n",
      "\n",
      "Check data: C:\\FPT Polytechnic\\Project Tự Làm\\Điểm thi thpt 2020 - 2024\\diem_thi_thpt_2024.csv\n",
      "Row numbers: 1061605, Column numbers: 11\n",
      "Columns: ['sbd', 'toan', 'ngu_van', 'ngoai_ngu', 'vat_li', 'hoa_hoc', 'sinh_hoc', 'lich_su', 'dia_li', 'gdcd', 'ma_ngoai_ngu']\n",
      "Duplicate Values: 0\n",
      "------------------------------------------------------------\n"
     ]
    }
   ],
   "source": [
    "data.check_data()"
   ]
  },
  {
   "cell_type": "markdown",
   "id": "d720e9c6",
   "metadata": {},
   "source": [
    "#### Drop Columns Specific"
   ]
  },
  {
   "cell_type": "code",
   "execution_count": 86,
   "id": "5000768d",
   "metadata": {},
   "outputs": [
    {
     "name": "stdout",
     "output_type": "stream",
     "text": [
      "\n",
      "Dropped columns from file C:\\FPT Polytechnic\\Project Tự Làm\\Điểm thi thpt 2020 - 2024\\diem_thi_2020_2021.csv: ['Tên', 'Ngày Sinh', 'Giới tính']\n",
      "\n",
      "Dropped columns from file C:\\FPT Polytechnic\\Project Tự Làm\\Điểm thi thpt 2020 - 2024\\diem_thi_thpt_2022.csv: No matching columns found\n",
      "\n",
      "Dropped columns from file C:\\FPT Polytechnic\\Project Tự Làm\\Điểm thi thpt 2020 - 2024\\diem_thi_thpt_2023.csv: ['ma_ngoai_ngu']\n",
      "\n",
      "Dropped columns from file C:\\FPT Polytechnic\\Project Tự Làm\\Điểm thi thpt 2020 - 2024\\diem_thi_thpt_2024.csv: ['ma_ngoai_ngu']\n"
     ]
    }
   ],
   "source": [
    "columns_to_drop = {\n",
    "    \"2020_2021\": [\"Tên\", \"Ngày Sinh\", \"Giới tính\"],\n",
    "    \"2023\": [\"ma_ngoai_ngu\"],\n",
    "    \"2024\": [\"ma_ngoai_ngu\"]\n",
    "}\n",
    "data.drop_specific_columns(columns_to_drop)"
   ]
  },
  {
   "cell_type": "markdown",
   "id": "5f17d081",
   "metadata": {},
   "source": [
    "#### Check Information Data"
   ]
  },
  {
   "cell_type": "code",
   "execution_count": 87,
   "id": "1abbb03a",
   "metadata": {},
   "outputs": [
    {
     "name": "stdout",
     "output_type": "stream",
     "text": [
      "\n",
      "Check data: C:\\FPT Polytechnic\\Project Tự Làm\\Điểm thi thpt 2020 - 2024\\diem_thi_2020_2021.csv\n",
      "Row numbers: 1853286, Column numbers: 13\n",
      "Columns: ['SBD', 'Toán', 'Văn', 'Lý', 'Hoá', 'Sinh', 'Lịch Sử', 'Địa Lý', 'GDCD', 'Ngoại Ngữ', 'Year', 'code', 'province']\n",
      "Duplicate Values: 0\n",
      "------------------------------------------------------------\n",
      "\n",
      "Check data: C:\\FPT Polytechnic\\Project Tự Làm\\Điểm thi thpt 2020 - 2024\\diem_thi_thpt_2022.csv\n",
      "Row numbers: 995441, Column numbers: 10\n",
      "Columns: ['sbd', 'toan', 'ngu_van', 'ngoai_ngu', 'vat_li', 'hoa_hoc', 'sinh_hoc', 'lich_su', 'dia_li', 'gdcd']\n",
      "Duplicate Values: 0\n",
      "------------------------------------------------------------\n",
      "\n",
      "Check data: C:\\FPT Polytechnic\\Project Tự Làm\\Điểm thi thpt 2020 - 2024\\diem_thi_thpt_2023.csv\n",
      "Row numbers: 1022060, Column numbers: 10\n",
      "Columns: ['sbd', 'toan', 'ngu_van', 'ngoai_ngu', 'vat_li', 'hoa_hoc', 'sinh_hoc', 'lich_su', 'dia_li', 'gdcd']\n",
      "Duplicate Values: 0\n",
      "------------------------------------------------------------\n",
      "\n",
      "Check data: C:\\FPT Polytechnic\\Project Tự Làm\\Điểm thi thpt 2020 - 2024\\diem_thi_thpt_2024.csv\n",
      "Row numbers: 1061605, Column numbers: 10\n",
      "Columns: ['sbd', 'toan', 'ngu_van', 'ngoai_ngu', 'vat_li', 'hoa_hoc', 'sinh_hoc', 'lich_su', 'dia_li', 'gdcd']\n",
      "Duplicate Values: 0\n",
      "------------------------------------------------------------\n"
     ]
    }
   ],
   "source": [
    "data.check_data()"
   ]
  },
  {
   "cell_type": "markdown",
   "id": "c4221835",
   "metadata": {},
   "source": [
    "#### Rename Column"
   ]
  },
  {
   "cell_type": "code",
   "execution_count": 88,
   "id": "a39c63b8",
   "metadata": {},
   "outputs": [
    {
     "name": "stdout",
     "output_type": "stream",
     "text": [
      "\n",
      "Renamed columns in file C:\\FPT Polytechnic\\Project Tự Làm\\Điểm thi thpt 2020 - 2024\\diem_thi_2020_2021.csv: {'SBD': 'sbd', 'Toán': 'toan', 'Văn': 'ngu_van', 'Ngoại Ngữ': 'ngoai_ngu', 'Lý': 'vat_li', 'Hoá': 'hoa_hoc', 'Sinh': 'sinh_hoc', 'Lịch Sử': 'lich_su', 'Địa Lý': 'dia_li', 'GDCD': 'gdcd', 'Year': 'year'}\n"
     ]
    }
   ],
   "source": [
    "data.rename_columns({\n",
    "    \"2020_2021\": {\"SBD\": \"sbd\", \"Toán\": \"toan\", \"Văn\": \"ngu_van\", \"Ngoại Ngữ\": \"ngoai_ngu\", \"Lý\": \"vat_li\", \"Hoá\": \"hoa_hoc\", \n",
    "                  \"Sinh\": \"sinh_hoc\", \"Lịch Sử\": \"lich_su\", \"Địa Lý\": \"dia_li\", \"GDCD\": \"gdcd\", \"Year\": \"year\"}\n",
    "})\n"
   ]
  },
  {
   "cell_type": "markdown",
   "id": "41fa9df5",
   "metadata": {},
   "source": [
    "#### Check Information Data"
   ]
  },
  {
   "cell_type": "code",
   "execution_count": 89,
   "id": "2219e294",
   "metadata": {},
   "outputs": [
    {
     "name": "stdout",
     "output_type": "stream",
     "text": [
      "\n",
      "Check data: C:\\FPT Polytechnic\\Project Tự Làm\\Điểm thi thpt 2020 - 2024\\diem_thi_2020_2021.csv\n",
      "Row numbers: 1853286, Column numbers: 13\n",
      "Columns: ['sbd', 'toan', 'ngu_van', 'vat_li', 'hoa_hoc', 'sinh_hoc', 'lich_su', 'dia_li', 'gdcd', 'ngoai_ngu', 'year', 'code', 'province']\n",
      "Duplicate Values: 0\n",
      "------------------------------------------------------------\n",
      "\n",
      "Check data: C:\\FPT Polytechnic\\Project Tự Làm\\Điểm thi thpt 2020 - 2024\\diem_thi_thpt_2022.csv\n",
      "Row numbers: 995441, Column numbers: 10\n",
      "Columns: ['sbd', 'toan', 'ngu_van', 'ngoai_ngu', 'vat_li', 'hoa_hoc', 'sinh_hoc', 'lich_su', 'dia_li', 'gdcd']\n",
      "Duplicate Values: 0\n",
      "------------------------------------------------------------\n",
      "\n",
      "Check data: C:\\FPT Polytechnic\\Project Tự Làm\\Điểm thi thpt 2020 - 2024\\diem_thi_thpt_2023.csv\n",
      "Row numbers: 1022060, Column numbers: 10\n",
      "Columns: ['sbd', 'toan', 'ngu_van', 'ngoai_ngu', 'vat_li', 'hoa_hoc', 'sinh_hoc', 'lich_su', 'dia_li', 'gdcd']\n",
      "Duplicate Values: 0\n",
      "------------------------------------------------------------\n",
      "\n",
      "Check data: C:\\FPT Polytechnic\\Project Tự Làm\\Điểm thi thpt 2020 - 2024\\diem_thi_thpt_2024.csv\n",
      "Row numbers: 1061605, Column numbers: 10\n",
      "Columns: ['sbd', 'toan', 'ngu_van', 'ngoai_ngu', 'vat_li', 'hoa_hoc', 'sinh_hoc', 'lich_su', 'dia_li', 'gdcd']\n",
      "Duplicate Values: 0\n",
      "------------------------------------------------------------\n"
     ]
    }
   ],
   "source": [
    "data.check_data()"
   ]
  },
  {
   "cell_type": "markdown",
   "id": "c608fe78",
   "metadata": {},
   "source": [
    "#### Add Columns Code And Year"
   ]
  },
  {
   "cell_type": "code",
   "execution_count": 90,
   "id": "618c9e49",
   "metadata": {},
   "outputs": [
    {
     "name": "stdout",
     "output_type": "stream",
     "text": [
      "'code' already exists in file: C:\\FPT Polytechnic\\Project Tự Làm\\Điểm thi thpt 2020 - 2024\\diem_thi_2020_2021.csv\n",
      "Add column 'code' to file: C:\\FPT Polytechnic\\Project Tự Làm\\Điểm thi thpt 2020 - 2024\\diem_thi_thpt_2022.csv\n",
      "Add column 'code' to file: C:\\FPT Polytechnic\\Project Tự Làm\\Điểm thi thpt 2020 - 2024\\diem_thi_thpt_2023.csv\n",
      "Add column 'code' to file: C:\\FPT Polytechnic\\Project Tự Làm\\Điểm thi thpt 2020 - 2024\\diem_thi_thpt_2024.csv\n"
     ]
    }
   ],
   "source": [
    "data.add_column_code_year()"
   ]
  },
  {
   "cell_type": "markdown",
   "id": "daa22cac",
   "metadata": {},
   "source": [
    "#### Check Information Data"
   ]
  },
  {
   "cell_type": "code",
   "execution_count": 91,
   "id": "43cc6210",
   "metadata": {},
   "outputs": [
    {
     "name": "stdout",
     "output_type": "stream",
     "text": [
      "\n",
      "Check data: C:\\FPT Polytechnic\\Project Tự Làm\\Điểm thi thpt 2020 - 2024\\diem_thi_2020_2021.csv\n",
      "Row numbers: 1853286, Column numbers: 13\n",
      "Columns: ['sbd', 'toan', 'ngu_van', 'vat_li', 'hoa_hoc', 'sinh_hoc', 'lich_su', 'dia_li', 'gdcd', 'ngoai_ngu', 'year', 'code', 'province']\n",
      "Duplicate Values: 0\n",
      "------------------------------------------------------------\n",
      "\n",
      "Check data: C:\\FPT Polytechnic\\Project Tự Làm\\Điểm thi thpt 2020 - 2024\\diem_thi_thpt_2022.csv\n",
      "Row numbers: 995441, Column numbers: 12\n",
      "Columns: ['sbd', 'toan', 'ngu_van', 'ngoai_ngu', 'vat_li', 'hoa_hoc', 'sinh_hoc', 'lich_su', 'dia_li', 'gdcd', 'code', 'year']\n",
      "Duplicate Values: 0\n",
      "------------------------------------------------------------\n",
      "\n",
      "Check data: C:\\FPT Polytechnic\\Project Tự Làm\\Điểm thi thpt 2020 - 2024\\diem_thi_thpt_2023.csv\n",
      "Row numbers: 1022060, Column numbers: 12\n",
      "Columns: ['sbd', 'toan', 'ngu_van', 'ngoai_ngu', 'vat_li', 'hoa_hoc', 'sinh_hoc', 'lich_su', 'dia_li', 'gdcd', 'code', 'year']\n",
      "Duplicate Values: 0\n",
      "------------------------------------------------------------\n",
      "\n",
      "Check data: C:\\FPT Polytechnic\\Project Tự Làm\\Điểm thi thpt 2020 - 2024\\diem_thi_thpt_2024.csv\n",
      "Row numbers: 1061605, Column numbers: 12\n",
      "Columns: ['sbd', 'toan', 'ngu_van', 'ngoai_ngu', 'vat_li', 'hoa_hoc', 'sinh_hoc', 'lich_su', 'dia_li', 'gdcd', 'code', 'year']\n",
      "Duplicate Values: 0\n",
      "------------------------------------------------------------\n"
     ]
    }
   ],
   "source": [
    "data.check_data()"
   ]
  },
  {
   "cell_type": "markdown",
   "id": "a72e5aef",
   "metadata": {},
   "source": [
    "#### Read_Excel data danh_sach_hoi_dong_thi_xlsx And Merge Table Take Column \"province\""
   ]
  },
  {
   "cell_type": "code",
   "execution_count": 92,
   "id": "0f800b49",
   "metadata": {},
   "outputs": [],
   "source": [
    "data.merge_table()"
   ]
  },
  {
   "cell_type": "markdown",
   "id": "811630d9",
   "metadata": {},
   "source": [
    "#### Check Information Data"
   ]
  },
  {
   "cell_type": "code",
   "execution_count": 93,
   "id": "25f76c1a",
   "metadata": {},
   "outputs": [
    {
     "name": "stdout",
     "output_type": "stream",
     "text": [
      "\n",
      "Check data: C:\\FPT Polytechnic\\Project Tự Làm\\Điểm thi thpt 2020 - 2024\\diem_thi_2020_2021.csv\n",
      "Row numbers: 1853286, Column numbers: 13\n",
      "Columns: ['sbd', 'toan', 'ngu_van', 'vat_li', 'hoa_hoc', 'sinh_hoc', 'lich_su', 'dia_li', 'gdcd', 'ngoai_ngu', 'year', 'code', 'province']\n",
      "Duplicate Values: 0\n",
      "------------------------------------------------------------\n",
      "\n",
      "Check data: C:\\FPT Polytechnic\\Project Tự Làm\\Điểm thi thpt 2020 - 2024\\diem_thi_thpt_2022.csv\n",
      "Row numbers: 995441, Column numbers: 15\n",
      "Columns: ['sbd', 'toan', 'ngu_van', 'ngoai_ngu', 'vat_li', 'hoa_hoc', 'sinh_hoc', 'lich_su', 'dia_li', 'gdcd', 'code', 'year', 'Mã hội đồng', 'Tên hội đồng thi', 'Tên Tỉnh']\n",
      "Duplicate Values: 0\n",
      "------------------------------------------------------------\n",
      "\n",
      "Check data: C:\\FPT Polytechnic\\Project Tự Làm\\Điểm thi thpt 2020 - 2024\\diem_thi_thpt_2023.csv\n",
      "Row numbers: 1022060, Column numbers: 15\n",
      "Columns: ['sbd', 'toan', 'ngu_van', 'ngoai_ngu', 'vat_li', 'hoa_hoc', 'sinh_hoc', 'lich_su', 'dia_li', 'gdcd', 'code', 'year', 'Mã hội đồng', 'Tên hội đồng thi', 'Tên Tỉnh']\n",
      "Duplicate Values: 0\n",
      "------------------------------------------------------------\n",
      "\n",
      "Check data: C:\\FPT Polytechnic\\Project Tự Làm\\Điểm thi thpt 2020 - 2024\\diem_thi_thpt_2024.csv\n",
      "Row numbers: 1061605, Column numbers: 15\n",
      "Columns: ['sbd', 'toan', 'ngu_van', 'ngoai_ngu', 'vat_li', 'hoa_hoc', 'sinh_hoc', 'lich_su', 'dia_li', 'gdcd', 'code', 'year', 'Mã hội đồng', 'Tên hội đồng thi', 'Tên Tỉnh']\n",
      "Duplicate Values: 0\n",
      "------------------------------------------------------------\n"
     ]
    }
   ],
   "source": [
    "data.check_data()"
   ]
  },
  {
   "cell_type": "markdown",
   "id": "05ab727a",
   "metadata": {},
   "source": [
    "#### Drop Column \"Mã hội đồng\", \"Tên hội đồng thi\""
   ]
  },
  {
   "cell_type": "code",
   "execution_count": 94,
   "id": "e964dc0d",
   "metadata": {},
   "outputs": [
    {
     "name": "stdout",
     "output_type": "stream",
     "text": [
      "\n",
      "Dropped columns from file C:\\FPT Polytechnic\\Project Tự Làm\\Điểm thi thpt 2020 - 2024\\diem_thi_2020_2021.csv: ['code']\n",
      "\n",
      "Dropped columns from file C:\\FPT Polytechnic\\Project Tự Làm\\Điểm thi thpt 2020 - 2024\\diem_thi_thpt_2022.csv: ['Mã hội đồng', 'Tên hội đồng thi', 'code']\n",
      "\n",
      "Dropped columns from file C:\\FPT Polytechnic\\Project Tự Làm\\Điểm thi thpt 2020 - 2024\\diem_thi_thpt_2023.csv: ['Mã hội đồng', 'Tên hội đồng thi', 'code']\n",
      "\n",
      "Dropped columns from file C:\\FPT Polytechnic\\Project Tự Làm\\Điểm thi thpt 2020 - 2024\\diem_thi_thpt_2024.csv: ['Mã hội đồng', 'Tên hội đồng thi', 'code']\n"
     ]
    }
   ],
   "source": [
    "columns_to_drop = {\n",
    "    \"2020_2021\": [\"code\"],\n",
    "    \"2022\": [\"Mã hội đồng\", \"Tên hội đồng thi\", \"code\"],\n",
    "    \"2023\": [\"Mã hội đồng\", \"Tên hội đồng thi\", \"code\"],\n",
    "    \"2024\": [\"Mã hội đồng\", \"Tên hội đồng thi\", \"code\"]\n",
    "}\n",
    "data.drop_specific_columns(columns_to_drop)"
   ]
  },
  {
   "cell_type": "markdown",
   "id": "33531af5",
   "metadata": {},
   "source": [
    "#### Check information data"
   ]
  },
  {
   "cell_type": "code",
   "execution_count": 95,
   "id": "59098be1",
   "metadata": {},
   "outputs": [
    {
     "name": "stdout",
     "output_type": "stream",
     "text": [
      "\n",
      "Check data: C:\\FPT Polytechnic\\Project Tự Làm\\Điểm thi thpt 2020 - 2024\\diem_thi_2020_2021.csv\n",
      "Row numbers: 1853286, Column numbers: 12\n",
      "Columns: ['sbd', 'toan', 'ngu_van', 'vat_li', 'hoa_hoc', 'sinh_hoc', 'lich_su', 'dia_li', 'gdcd', 'ngoai_ngu', 'year', 'province']\n",
      "Duplicate Values: 0\n",
      "------------------------------------------------------------\n",
      "\n",
      "Check data: C:\\FPT Polytechnic\\Project Tự Làm\\Điểm thi thpt 2020 - 2024\\diem_thi_thpt_2022.csv\n",
      "Row numbers: 995441, Column numbers: 12\n",
      "Columns: ['sbd', 'toan', 'ngu_van', 'ngoai_ngu', 'vat_li', 'hoa_hoc', 'sinh_hoc', 'lich_su', 'dia_li', 'gdcd', 'year', 'Tên Tỉnh']\n",
      "Duplicate Values: 0\n",
      "------------------------------------------------------------\n",
      "\n",
      "Check data: C:\\FPT Polytechnic\\Project Tự Làm\\Điểm thi thpt 2020 - 2024\\diem_thi_thpt_2023.csv\n",
      "Row numbers: 1022060, Column numbers: 12\n",
      "Columns: ['sbd', 'toan', 'ngu_van', 'ngoai_ngu', 'vat_li', 'hoa_hoc', 'sinh_hoc', 'lich_su', 'dia_li', 'gdcd', 'year', 'Tên Tỉnh']\n",
      "Duplicate Values: 0\n",
      "------------------------------------------------------------\n",
      "\n",
      "Check data: C:\\FPT Polytechnic\\Project Tự Làm\\Điểm thi thpt 2020 - 2024\\diem_thi_thpt_2024.csv\n",
      "Row numbers: 1061605, Column numbers: 12\n",
      "Columns: ['sbd', 'toan', 'ngu_van', 'ngoai_ngu', 'vat_li', 'hoa_hoc', 'sinh_hoc', 'lich_su', 'dia_li', 'gdcd', 'year', 'Tên Tỉnh']\n",
      "Duplicate Values: 0\n",
      "------------------------------------------------------------\n"
     ]
    }
   ],
   "source": [
    "data.check_data()"
   ]
  },
  {
   "cell_type": "markdown",
   "id": "5f4f4a7a",
   "metadata": {},
   "source": [
    "#### Rename Columns \"Tên Tỉnh\": \"province\""
   ]
  },
  {
   "cell_type": "code",
   "execution_count": 96,
   "id": "f3843915",
   "metadata": {},
   "outputs": [
    {
     "name": "stdout",
     "output_type": "stream",
     "text": [
      "\n",
      "Renamed columns in file C:\\FPT Polytechnic\\Project Tự Làm\\Điểm thi thpt 2020 - 2024\\diem_thi_2020_2021.csv: No matching columns to rename\n",
      "\n",
      "Renamed columns in file C:\\FPT Polytechnic\\Project Tự Làm\\Điểm thi thpt 2020 - 2024\\diem_thi_thpt_2022.csv: {'Tên Tỉnh': 'province'}\n",
      "\n",
      "Renamed columns in file C:\\FPT Polytechnic\\Project Tự Làm\\Điểm thi thpt 2020 - 2024\\diem_thi_thpt_2023.csv: {'Tên Tỉnh': 'province'}\n",
      "\n",
      "Renamed columns in file C:\\FPT Polytechnic\\Project Tự Làm\\Điểm thi thpt 2020 - 2024\\diem_thi_thpt_2024.csv: {'Tên Tỉnh': 'province'}\n"
     ]
    }
   ],
   "source": [
    "data.rename_columns({\n",
    "    \"2022\": {\"Tên Tỉnh\": \"province\"},\n",
    "    \"2023\": {\"Tên Tỉnh\": \"province\"},\n",
    "    \"2024\": {\"Tên Tỉnh\": \"province\"}\n",
    "\n",
    "})"
   ]
  },
  {
   "cell_type": "markdown",
   "id": "22f8ffd7",
   "metadata": {},
   "source": [
    "#### Check Information Data"
   ]
  },
  {
   "cell_type": "code",
   "execution_count": 97,
   "id": "ebdd620d",
   "metadata": {},
   "outputs": [
    {
     "name": "stdout",
     "output_type": "stream",
     "text": [
      "\n",
      "Check data: C:\\FPT Polytechnic\\Project Tự Làm\\Điểm thi thpt 2020 - 2024\\diem_thi_2020_2021.csv\n",
      "Row numbers: 1853286, Column numbers: 12\n",
      "Columns: ['sbd', 'toan', 'ngu_van', 'vat_li', 'hoa_hoc', 'sinh_hoc', 'lich_su', 'dia_li', 'gdcd', 'ngoai_ngu', 'year', 'province']\n",
      "Duplicate Values: 0\n",
      "------------------------------------------------------------\n",
      "\n",
      "Check data: C:\\FPT Polytechnic\\Project Tự Làm\\Điểm thi thpt 2020 - 2024\\diem_thi_thpt_2022.csv\n",
      "Row numbers: 995441, Column numbers: 12\n",
      "Columns: ['sbd', 'toan', 'ngu_van', 'ngoai_ngu', 'vat_li', 'hoa_hoc', 'sinh_hoc', 'lich_su', 'dia_li', 'gdcd', 'year', 'province']\n",
      "Duplicate Values: 0\n",
      "------------------------------------------------------------\n",
      "\n",
      "Check data: C:\\FPT Polytechnic\\Project Tự Làm\\Điểm thi thpt 2020 - 2024\\diem_thi_thpt_2023.csv\n",
      "Row numbers: 1022060, Column numbers: 12\n",
      "Columns: ['sbd', 'toan', 'ngu_van', 'ngoai_ngu', 'vat_li', 'hoa_hoc', 'sinh_hoc', 'lich_su', 'dia_li', 'gdcd', 'year', 'province']\n",
      "Duplicate Values: 0\n",
      "------------------------------------------------------------\n",
      "\n",
      "Check data: C:\\FPT Polytechnic\\Project Tự Làm\\Điểm thi thpt 2020 - 2024\\diem_thi_thpt_2024.csv\n",
      "Row numbers: 1061605, Column numbers: 12\n",
      "Columns: ['sbd', 'toan', 'ngu_van', 'ngoai_ngu', 'vat_li', 'hoa_hoc', 'sinh_hoc', 'lich_su', 'dia_li', 'gdcd', 'year', 'province']\n",
      "Duplicate Values: 0\n",
      "------------------------------------------------------------\n"
     ]
    }
   ],
   "source": [
    "data.check_data()"
   ]
  },
  {
   "cell_type": "markdown",
   "id": "fa74347a",
   "metadata": {},
   "source": [
    "#### Reorder The Columns"
   ]
  },
  {
   "cell_type": "code",
   "execution_count": 98,
   "id": "7aa3902c",
   "metadata": {},
   "outputs": [
    {
     "name": "stdout",
     "output_type": "stream",
     "text": [
      "Successfully reordered columns for the file: C:\\FPT Polytechnic\\Project Tự Làm\\Điểm thi thpt 2020 - 2024\\diem_thi_2020_2021.csv\n",
      "Successfully reordered columns for the file: C:\\FPT Polytechnic\\Project Tự Làm\\Điểm thi thpt 2020 - 2024\\diem_thi_thpt_2022.csv\n",
      "Successfully reordered columns for the file: C:\\FPT Polytechnic\\Project Tự Làm\\Điểm thi thpt 2020 - 2024\\diem_thi_thpt_2023.csv\n",
      "Successfully reordered columns for the file: C:\\FPT Polytechnic\\Project Tự Làm\\Điểm thi thpt 2020 - 2024\\diem_thi_thpt_2024.csv\n"
     ]
    }
   ],
   "source": [
    "data.reorder_all_columns()"
   ]
  },
  {
   "cell_type": "markdown",
   "id": "f4af249d",
   "metadata": {},
   "source": [
    "#### Check Information Data"
   ]
  },
  {
   "cell_type": "code",
   "execution_count": 99,
   "id": "6f31830e",
   "metadata": {},
   "outputs": [
    {
     "name": "stdout",
     "output_type": "stream",
     "text": [
      "\n",
      "Check data: C:\\FPT Polytechnic\\Project Tự Làm\\Điểm thi thpt 2020 - 2024\\diem_thi_2020_2021.csv\n",
      "Row numbers: 1853286, Column numbers: 12\n",
      "Columns: ['sbd', 'toan', 'ngu_van', 'vat_li', 'hoa_hoc', 'sinh_hoc', 'lich_su', 'dia_li', 'gdcd', 'ngoai_ngu', 'year', 'province']\n",
      "Duplicate Values: 0\n",
      "------------------------------------------------------------\n",
      "\n",
      "Check data: C:\\FPT Polytechnic\\Project Tự Làm\\Điểm thi thpt 2020 - 2024\\diem_thi_thpt_2022.csv\n",
      "Row numbers: 995441, Column numbers: 12\n",
      "Columns: ['sbd', 'toan', 'ngu_van', 'vat_li', 'hoa_hoc', 'sinh_hoc', 'lich_su', 'dia_li', 'gdcd', 'ngoai_ngu', 'year', 'province']\n",
      "Duplicate Values: 0\n",
      "------------------------------------------------------------\n",
      "\n",
      "Check data: C:\\FPT Polytechnic\\Project Tự Làm\\Điểm thi thpt 2020 - 2024\\diem_thi_thpt_2023.csv\n",
      "Row numbers: 1022060, Column numbers: 12\n",
      "Columns: ['sbd', 'toan', 'ngu_van', 'vat_li', 'hoa_hoc', 'sinh_hoc', 'lich_su', 'dia_li', 'gdcd', 'ngoai_ngu', 'year', 'province']\n",
      "Duplicate Values: 0\n",
      "------------------------------------------------------------\n",
      "\n",
      "Check data: C:\\FPT Polytechnic\\Project Tự Làm\\Điểm thi thpt 2020 - 2024\\diem_thi_thpt_2024.csv\n",
      "Row numbers: 1061605, Column numbers: 12\n",
      "Columns: ['sbd', 'toan', 'ngu_van', 'vat_li', 'hoa_hoc', 'sinh_hoc', 'lich_su', 'dia_li', 'gdcd', 'ngoai_ngu', 'year', 'province']\n",
      "Duplicate Values: 0\n",
      "------------------------------------------------------------\n"
     ]
    }
   ],
   "source": [
    "data.check_data()"
   ]
  },
  {
   "cell_type": "markdown",
   "id": "07c356a9",
   "metadata": {},
   "source": [
    "#### Concat Table"
   ]
  },
  {
   "cell_type": "code",
   "execution_count": 100,
   "id": "6e2c71e1",
   "metadata": {},
   "outputs": [
    {
     "name": "stdout",
     "output_type": "stream",
     "text": [
      "Successfully concatenated 4 DataFrames.\n",
      "File saved to: C:\\FPT Polytechnic\\Graduation_Project\\Data\\Processed\\processed.csv\n"
     ]
    }
   ],
   "source": [
    "df_concat = data.concat_all()"
   ]
  },
  {
   "cell_type": "markdown",
   "id": "3471836f",
   "metadata": {},
   "source": [
    "#### Check Information Data"
   ]
  },
  {
   "cell_type": "code",
   "execution_count": 101,
   "id": "74b41802",
   "metadata": {},
   "outputs": [
    {
     "name": "stdout",
     "output_type": "stream",
     "text": [
      "<class 'pandas.core.frame.DataFrame'>\n",
      "RangeIndex: 4932392 entries, 0 to 4932391\n",
      "Data columns (total 12 columns):\n",
      " #   Column     Dtype  \n",
      "---  ------     -----  \n",
      " 0   sbd        int64  \n",
      " 1   toan       float64\n",
      " 2   ngu_van    float64\n",
      " 3   vat_li     float64\n",
      " 4   hoa_hoc    float64\n",
      " 5   sinh_hoc   float64\n",
      " 6   lich_su    float64\n",
      " 7   dia_li     float64\n",
      " 8   gdcd       float64\n",
      " 9   ngoai_ngu  float64\n",
      " 10  year       int64  \n",
      " 11  province   object \n",
      "dtypes: float64(9), int64(2), object(1)\n",
      "memory usage: 451.6+ MB\n"
     ]
    }
   ],
   "source": [
    "df_concat.info()"
   ]
  },
  {
   "cell_type": "markdown",
   "id": "74486af2",
   "metadata": {},
   "source": [
    "#### Rename column danh_sach_hoi_dong_thi.xlsx"
   ]
  },
  {
   "cell_type": "code",
   "execution_count": 102,
   "id": "6c064620",
   "metadata": {},
   "outputs": [
    {
     "data": {
      "text/html": [
       "<div>\n",
       "<style scoped>\n",
       "    .dataframe tbody tr th:only-of-type {\n",
       "        vertical-align: middle;\n",
       "    }\n",
       "\n",
       "    .dataframe tbody tr th {\n",
       "        vertical-align: top;\n",
       "    }\n",
       "\n",
       "    .dataframe thead th {\n",
       "        text-align: right;\n",
       "    }\n",
       "</style>\n",
       "<table border=\"1\" class=\"dataframe\">\n",
       "  <thead>\n",
       "    <tr style=\"text-align: right;\">\n",
       "      <th></th>\n",
       "      <th>code</th>\n",
       "      <th>national examination board</th>\n",
       "      <th>province</th>\n",
       "    </tr>\n",
       "  </thead>\n",
       "  <tbody>\n",
       "    <tr>\n",
       "      <th>0</th>\n",
       "      <td>1</td>\n",
       "      <td>Sở GD&amp;ĐT Hà Nội</td>\n",
       "      <td>Hà Nội</td>\n",
       "    </tr>\n",
       "    <tr>\n",
       "      <th>1</th>\n",
       "      <td>2</td>\n",
       "      <td>Sở GD&amp;ĐT TP. Hồ Chí Minh</td>\n",
       "      <td>TP. Hồ Chí Minh</td>\n",
       "    </tr>\n",
       "    <tr>\n",
       "      <th>2</th>\n",
       "      <td>3</td>\n",
       "      <td>Sở GD&amp;ĐT Hải Phòng</td>\n",
       "      <td>Hải Phòng</td>\n",
       "    </tr>\n",
       "    <tr>\n",
       "      <th>3</th>\n",
       "      <td>4</td>\n",
       "      <td>Sở GD&amp;ĐT Đà Nẵng</td>\n",
       "      <td>Đà Nẵng</td>\n",
       "    </tr>\n",
       "    <tr>\n",
       "      <th>4</th>\n",
       "      <td>5</td>\n",
       "      <td>Sở GD&amp;ĐT Hà Giang</td>\n",
       "      <td>Hà Giang</td>\n",
       "    </tr>\n",
       "    <tr>\n",
       "      <th>...</th>\n",
       "      <td>...</td>\n",
       "      <td>...</td>\n",
       "      <td>...</td>\n",
       "    </tr>\n",
       "    <tr>\n",
       "      <th>59</th>\n",
       "      <td>60</td>\n",
       "      <td>Sở GD&amp;ĐT Cà Mau</td>\n",
       "      <td>Cà Mau</td>\n",
       "    </tr>\n",
       "    <tr>\n",
       "      <th>60</th>\n",
       "      <td>61</td>\n",
       "      <td>Sở GD&amp;ĐT Điện Biên</td>\n",
       "      <td>Điện Biên</td>\n",
       "    </tr>\n",
       "    <tr>\n",
       "      <th>61</th>\n",
       "      <td>62</td>\n",
       "      <td>Sở GD&amp;ĐT Đắk Nông</td>\n",
       "      <td>Đắk Nông</td>\n",
       "    </tr>\n",
       "    <tr>\n",
       "      <th>62</th>\n",
       "      <td>63</td>\n",
       "      <td>Sở GD&amp;ĐT Hậu Giang</td>\n",
       "      <td>Hậu Giang</td>\n",
       "    </tr>\n",
       "    <tr>\n",
       "      <th>63</th>\n",
       "      <td>64</td>\n",
       "      <td>Cục Nhà trường - Bộ Quốc phòng</td>\n",
       "      <td>Bộ Quốc phòng</td>\n",
       "    </tr>\n",
       "  </tbody>\n",
       "</table>\n",
       "<p>64 rows × 3 columns</p>\n",
       "</div>"
      ],
      "text/plain": [
       "    code      national examination board         province\n",
       "0      1                 Sở GD&ĐT Hà Nội           Hà Nội\n",
       "1      2        Sở GD&ĐT TP. Hồ Chí Minh  TP. Hồ Chí Minh\n",
       "2      3              Sở GD&ĐT Hải Phòng        Hải Phòng\n",
       "3      4                Sở GD&ĐT Đà Nẵng          Đà Nẵng\n",
       "4      5               Sở GD&ĐT Hà Giang         Hà Giang\n",
       "..   ...                             ...              ...\n",
       "59    60                 Sở GD&ĐT Cà Mau           Cà Mau\n",
       "60    61              Sở GD&ĐT Điện Biên        Điện Biên\n",
       "61    62               Sở GD&ĐT Đắk Nông         Đắk Nông\n",
       "62    63              Sở GD&ĐT Hậu Giang        Hậu Giang\n",
       "63    64  Cục Nhà trường - Bộ Quốc phòng    Bộ Quốc phòng\n",
       "\n",
       "[64 rows x 3 columns]"
      ]
     },
     "execution_count": 102,
     "metadata": {},
     "output_type": "execute_result"
    }
   ],
   "source": [
    "df_danh_sach_hoi_dong_thi.rename(columns={\n",
    "    \"Mã hội đồng\": \"code\",\n",
    "    \"Tên hội đồng thi\": \"national examination board\",\n",
    "    \"Tên Tỉnh\": \"province\"\n",
    "}, inplace=True)\n",
    "\n",
    "df_danh_sach_hoi_dong_thi.to_csv(r\"C:\\FPT Polytechnic\\Graduation_Project\\Data\\Processed\\danh_sach_hoi_dong_thi_transform.csv\", index=False)\n",
    "pd.read_csv(r\"C:\\FPT Polytechnic\\Graduation_Project\\Data\\Processed\\danh_sach_hoi_dong_thi_transform.csv\")"
   ]
  },
  {
   "cell_type": "markdown",
   "id": "890f2be6",
   "metadata": {},
   "source": []
  }
 ],
 "metadata": {
  "kernelspec": {
   "display_name": "Python 3",
   "language": "python",
   "name": "python3"
  },
  "language_info": {
   "codemirror_mode": {
    "name": "ipython",
    "version": 3
   },
   "file_extension": ".py",
   "mimetype": "text/x-python",
   "name": "python",
   "nbconvert_exporter": "python",
   "pygments_lexer": "ipython3",
   "version": "3.11.9"
  }
 },
 "nbformat": 4,
 "nbformat_minor": 5
}
